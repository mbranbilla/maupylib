{
 "cells": [
  {
   "cell_type": "markdown",
   "metadata": {},
   "source": [
    "## Environment Setting - Setting up everything!\n",
    "\n",
    "**In this notebook, we will...**\n",
    "\n",
    "1. Generate a requirements file `requirements.txt` and install all required packages\n",
    "2. Import Python modules and custom modules developed by me and keeped in `/src`\n",
    "3. Test that custom modules using some example dataset\n",
    "\n",
    "**How interpret object and variables names?**\n",
    "\n",
    "- Objects and variables that your names starts with `_` indicates a temporary object. This object can be alterated is distinct contexts or can be deleted after being used. \n",
    "\n",
    "\n",
    "---\n",
    "\n",
    "### <a id='index'>Table of Contents</a>\n",
    "\n",
    "#### [1. Environment Settings](#sec_1)\n",
    "#### [2. Pratice DataSet](#sec_2)\n",
    "#### [3. Model Development (extremely symplified)](#sec_3)\n",
    "##### [3.1. Model Metrics](#sec_31)\n",
    "---\n"
   ]
  },
  {
   "cell_type": "markdown",
   "metadata": {},
   "source": [
    "## Draft - TO_DO List\n",
    "\n",
    "- [X] Getting some kaggle dataset\n",
    "- [ ] Class for bootstrap metrics\n",
    "- [ ] Class for validation plots with confidence intervals"
   ]
  },
  {
   "cell_type": "markdown",
   "metadata": {},
   "source": [
    "### <a id='sec_1'>1. Environment Settings </a>\n",
    "\n",
    "\n",
    "[Return to Index](#index)"
   ]
  },
  {
   "cell_type": "code",
   "execution_count": 1,
   "metadata": {},
   "outputs": [
    {
     "name": "stdout",
     "output_type": "stream",
     "text": [
      "Requirement already satisfied: pip in /Users/mbranbilla/.venv/lib/python3.11/site-packages (23.3.1)\n",
      "Requirement already satisfied: pandas==2.0 in /Users/mbranbilla/.venv/lib/python3.11/site-packages (from -r requirements.txt (line 2)) (2.0.0)\n",
      "Requirement already satisfied: numpy!=1.24.0,<1.27.0,>=1.21.0 in /Users/mbranbilla/.venv/lib/python3.11/site-packages (from -r requirements.txt (line 3)) (1.24.2)\n",
      "Requirement already satisfied: scipy==1.10 in /Users/mbranbilla/.venv/lib/python3.11/site-packages (from -r requirements.txt (line 4)) (1.10.0)\n",
      "Requirement already satisfied: scikit-learn==1.3 in /Users/mbranbilla/.venv/lib/python3.11/site-packages (from -r requirements.txt (line 5)) (1.3.0)\n",
      "Requirement already satisfied: matplotlib==3.7 in /Users/mbranbilla/.venv/lib/python3.11/site-packages (from -r requirements.txt (line 6)) (3.7.0)\n",
      "Requirement already satisfied: seaborn==0.12.2 in /Users/mbranbilla/.venv/lib/python3.11/site-packages (from -r requirements.txt (line 7)) (0.12.2)\n",
      "Requirement already satisfied: lightgbm==4.1.0 in /Users/mbranbilla/.venv/lib/python3.11/site-packages (from -r requirements.txt (line 8)) (4.1.0)\n",
      "Requirement already satisfied: shap==0.42.1 in /Users/mbranbilla/.venv/lib/python3.11/site-packages (from -r requirements.txt (line 9)) (0.42.1)\n",
      "Requirement already satisfied: tqdm in /Users/mbranbilla/.venv/lib/python3.11/site-packages (from -r requirements.txt (line 10)) (4.65.0)\n",
      "Requirement already satisfied: python-dateutil>=2.8.2 in /Users/mbranbilla/.venv/lib/python3.11/site-packages (from pandas==2.0->-r requirements.txt (line 2)) (2.8.2)\n",
      "Requirement already satisfied: pytz>=2020.1 in /Users/mbranbilla/.venv/lib/python3.11/site-packages (from pandas==2.0->-r requirements.txt (line 2)) (2023.3)\n",
      "Requirement already satisfied: tzdata>=2022.1 in /Users/mbranbilla/.venv/lib/python3.11/site-packages (from pandas==2.0->-r requirements.txt (line 2)) (2023.3)\n",
      "Requirement already satisfied: joblib>=1.1.1 in /Users/mbranbilla/.venv/lib/python3.11/site-packages (from scikit-learn==1.3->-r requirements.txt (line 5)) (1.2.0)\n",
      "Requirement already satisfied: threadpoolctl>=2.0.0 in /Users/mbranbilla/.venv/lib/python3.11/site-packages (from scikit-learn==1.3->-r requirements.txt (line 5)) (3.1.0)\n",
      "Requirement already satisfied: contourpy>=1.0.1 in /Users/mbranbilla/.venv/lib/python3.11/site-packages (from matplotlib==3.7->-r requirements.txt (line 6)) (1.0.7)\n",
      "Requirement already satisfied: cycler>=0.10 in /Users/mbranbilla/.venv/lib/python3.11/site-packages (from matplotlib==3.7->-r requirements.txt (line 6)) (0.11.0)\n",
      "Requirement already satisfied: fonttools>=4.22.0 in /Users/mbranbilla/.venv/lib/python3.11/site-packages (from matplotlib==3.7->-r requirements.txt (line 6)) (4.40.0)\n",
      "Requirement already satisfied: kiwisolver>=1.0.1 in /Users/mbranbilla/.venv/lib/python3.11/site-packages (from matplotlib==3.7->-r requirements.txt (line 6)) (1.4.4)\n",
      "Requirement already satisfied: packaging>=20.0 in /Users/mbranbilla/.venv/lib/python3.11/site-packages (from matplotlib==3.7->-r requirements.txt (line 6)) (23.0)\n",
      "Requirement already satisfied: pillow>=6.2.0 in /Users/mbranbilla/.venv/lib/python3.11/site-packages (from matplotlib==3.7->-r requirements.txt (line 6)) (9.5.0)\n",
      "Requirement already satisfied: pyparsing>=2.3.1 in /Users/mbranbilla/.venv/lib/python3.11/site-packages (from matplotlib==3.7->-r requirements.txt (line 6)) (3.0.9)\n",
      "Requirement already satisfied: slicer==0.0.7 in /Users/mbranbilla/.venv/lib/python3.11/site-packages (from shap==0.42.1->-r requirements.txt (line 9)) (0.0.7)\n",
      "Requirement already satisfied: numba in /Users/mbranbilla/.venv/lib/python3.11/site-packages (from shap==0.42.1->-r requirements.txt (line 9)) (0.58.0)\n",
      "Requirement already satisfied: cloudpickle in /Users/mbranbilla/.venv/lib/python3.11/site-packages (from shap==0.42.1->-r requirements.txt (line 9)) (2.2.1)\n",
      "Requirement already satisfied: six>=1.5 in /Users/mbranbilla/.venv/lib/python3.11/site-packages (from python-dateutil>=2.8.2->pandas==2.0->-r requirements.txt (line 2)) (1.16.0)\n",
      "Requirement already satisfied: llvmlite<0.42,>=0.41.0dev0 in /Users/mbranbilla/.venv/lib/python3.11/site-packages (from numba->shap==0.42.1->-r requirements.txt (line 9)) (0.41.0)\n"
     ]
    }
   ],
   "source": [
    "import subprocess\n",
    "import sys\n",
    "\n",
    "_requirements = \"\"\"#Python 3.11.4\n",
    "pandas==2.0\n",
    "numpy>=1.21.0, <1.27.0, !=1.24.0\n",
    "scipy==1.10\n",
    "scikit-learn==1.3\n",
    "matplotlib==3.7\n",
    "seaborn==0.12.2\n",
    "lightgbm==4.1.0\n",
    "shap==0.42.1\n",
    "tqdm\n",
    "\"\"\"\n",
    "with open('requirements.txt', 'w') as _f:\n",
    "    _f.write(_requirements)\n",
    "\n",
    "subprocess.check_call([sys.executable, \"-m\", \"pip\", \"install\", \"--upgrade\", \"pip\"])\n",
    "subprocess.check_call([sys.executable, \"-m\", \"pip\", \"install\", \"-r\", \"requirements.txt\"])\n",
    "\n",
    "del(_requirements)\n",
    "del(subprocess)\n",
    "del(sys)\n",
    "del(_f)"
   ]
  },
  {
   "cell_type": "code",
   "execution_count": 2,
   "metadata": {},
   "outputs": [
    {
     "name": "stderr",
     "output_type": "stream",
     "text": [
      "Using `tqdm.autonotebook.tqdm` in notebook mode. Use `tqdm.tqdm` instead to force console mode (e.g. in jupyter console)\n"
     ]
    }
   ],
   "source": [
    "# Python Modules\n",
    "import pandas as pd\n",
    "import numpy as np\n",
    "import shap\n",
    "\n",
    "from lightgbm import LGBMClassifier\n",
    "\n",
    "from tqdm import tqdm\n",
    "\n",
    "from sklearn.utils.class_weight import compute_class_weight\n",
    "from sklearn.model_selection import train_test_split\n",
    "from sklearn.metrics import roc_auc_score, f1_score, average_precision_score\n",
    "\n",
    "# Custom modules\n",
    "\n",
    "# Pandas display settings\n",
    "pd.set_option('display.max_rows', 500)\n",
    "pd.set_option('display.max_columns', 500)\n",
    "\n",
    "# Constants \n",
    "RND_SEED = 42"
   ]
  },
  {
   "cell_type": "markdown",
   "metadata": {},
   "source": [
    "### <a id='sec_2'>2. Pratice DataSet </a>\n",
    "\n",
    "**Dataset Reference:**\n",
    "\n",
    "- [Sloan Digital Sky Survey - DR18](https://www.kaggle.com/datasets/diraf0/sloan-digital-sky-survey-dr18) (From Kaggle)\n",
    "\n",
    "[Return to Index](#index)"
   ]
  },
  {
   "cell_type": "code",
   "execution_count": 3,
   "metadata": {},
   "outputs": [
    {
     "name": "stdout",
     "output_type": "stream",
     "text": [
      "----------------------------\n",
      "  Raw Dataset Informations: \n",
      "----------------------------\n",
      "#Rows: 100000 | #Columns: 43 \n",
      "----------------------------\n",
      "\n",
      "----------------------------\n",
      "Target - Label Proportions:\n",
      "----------------------------\n",
      "class \n",
      "GALAXY    0.52343\n",
      "STAR      0.37232\n",
      "QSO       0.10425\n",
      "Name: count, dtype: float64\n",
      "----------------------------\n"
     ]
    }
   ],
   "source": [
    "# Note: 'field' also can be interpreted as an id, but this variable carring \n",
    "# ----- this variable carring the informatiou about the sky position of\n",
    "#       objects - Looking at the description:\n",
    "#       \"The entire sky is divided into a portion of fields and the field \n",
    "#        number column refers to the field or portion of the sky from \n",
    "#        which an observation was obtained.\"\n",
    "#       Because of this, I decided to keep this information as a feature, not \n",
    "#       an id. \n",
    "#       \n",
    "#       Equivalent intuition are present in the columns 'camcol', 'run', 'rerun'\n",
    "#       and 'plate' - I'll test them to decide if I'll use as feature.\n",
    "\n",
    "\n",
    "# ---\n",
    "# Specifying the lists of columns to be used\n",
    "\n",
    "# IDs\n",
    "id_columns = ['Objid', 'Specobjid', 'fiberID']\n",
    "\n",
    "# 'class' can assume the labels: 'STAR', 'GALAXY' and 'QSO' \n",
    "# (Quasi-Stellar Object or a Quasar)\n",
    "target_column = ['class']\n",
    "\n",
    "# 'mjd' - Modified Julian Date represents the number of days that have passed \n",
    "#         since midnight Nov. 17, 1858. It is used in SDSS to keep track of \n",
    "#         the time of each observation. \n",
    "time_columns = ['mjd']\n",
    "\n",
    "# Columns described as features\n",
    "# feature_columms = ['ra', 'dec', 'redshift', 'u', 'g', 'r', 'i', 'z', \n",
    "#                    'petroRad_u', 'petroRad_g', 'petroRad_r', 'petroRad_i', \n",
    "#                    'petroRad_z', 'petroFlux_u', 'petroFlux_g', 'petroFlux_r',\n",
    "#                    'petroFlux_i', 'petroFlux_z', 'petroR50_u', 'petroR50_g', \n",
    "#                    'petroR50_r', 'petroR50_i', 'petroR50_z', 'psfMag_u', \n",
    "#                    'psfMag_g', 'psfMag_r', 'psfMag_i', 'psfMag_z', 'expAB_u', \n",
    "#                    'expAB_g', 'expAB_r', 'expAB_i', 'expAB_z']\n",
    "\n",
    "feature_columms = ['ra', 'dec', 'u', 'g', 'r', 'i', 'z', \n",
    "                   'petroRad_u', 'petroRad_g', 'petroRad_r', 'petroRad_i', \n",
    "                   'petroRad_z', 'petroFlux_u', 'petroFlux_g', 'petroFlux_r',\n",
    "                   'petroFlux_i', 'petroFlux_z', 'petroR50_u', 'petroR50_g', \n",
    "                   'petroR50_r', 'petroR50_i', 'petroR50_z', 'psfMag_u', \n",
    "                   'psfMag_g', 'psfMag_r', 'psfMag_i', 'psfMag_z', 'expAB_u', \n",
    "                   'expAB_g', 'expAB_r', 'expAB_i', 'expAB_z']\n",
    "\n",
    "# These below will be tested in order to discover what of them I can \n",
    "# use as feature:\n",
    "maybe_feature_coluns = ['camcol', 'run', 'rerun', 'field', 'plate']\n",
    "\n",
    "# ---\n",
    "# Reading the data and print informations\n",
    "raw_df = pd.read_csv('data/SDSS_DR18.csv')\n",
    "\n",
    "print('----------------------------')\n",
    "print('  Raw Dataset Informations: ')\n",
    "print('----------------------------')\n",
    "print(f\"#Rows: {raw_df.shape[0]} | #Columns: {raw_df.shape[1]} \")\n",
    "print('----------------------------')\n",
    "print('')\n",
    "print('----------------------------')\n",
    "print('Target - Label Proportions:')\n",
    "print('----------------------------')\n",
    "print(raw_df[target_column].value_counts() / raw_df.shape[0])\n",
    "print('----------------------------')"
   ]
  },
  {
   "cell_type": "code",
   "execution_count": 4,
   "metadata": {},
   "outputs": [],
   "source": [
    "# Adjust target variable\n",
    "_replacements = {\n",
    "    'GALAXY': '0',\n",
    "    'STAR': '1',\n",
    "    'QSO': '2'\n",
    "}\n",
    "\n",
    "raw_df[target_column] = raw_df[target_column] \\\n",
    "                            .replace(_replacements) \\\n",
    "                            .astype(int)\n",
    "\n",
    "# Remove temporary objects\n",
    "del(_replacements)"
   ]
  },
  {
   "cell_type": "markdown",
   "metadata": {},
   "source": [
    "Adding some noise (just for fun)"
   ]
  },
  {
   "cell_type": "code",
   "execution_count": 5,
   "metadata": {},
   "outputs": [
    {
     "name": "stderr",
     "output_type": "stream",
     "text": [
      "100%|██████████| 32/32 [00:04<00:00,  7.59it/s]\n"
     ]
    }
   ],
   "source": [
    "for _f in tqdm(feature_columms):\n",
    "    raw_df[_f] = [_x * (1 + np.random.normal(loc=0.0, scale=1.0)) for _x in raw_df[_f]]\n",
    "\n",
    "del(_f)"
   ]
  },
  {
   "cell_type": "code",
   "execution_count": 6,
   "metadata": {},
   "outputs": [
    {
     "data": {
      "text/html": [
       "<div>\n",
       "<style scoped>\n",
       "    .dataframe tbody tr th:only-of-type {\n",
       "        vertical-align: middle;\n",
       "    }\n",
       "\n",
       "    .dataframe tbody tr th {\n",
       "        vertical-align: top;\n",
       "    }\n",
       "\n",
       "    .dataframe thead th {\n",
       "        text-align: right;\n",
       "    }\n",
       "</style>\n",
       "<table border=\"1\" class=\"dataframe\">\n",
       "  <thead>\n",
       "    <tr style=\"text-align: right;\">\n",
       "      <th></th>\n",
       "      <th>objid</th>\n",
       "      <th>specobjid</th>\n",
       "      <th>ra</th>\n",
       "      <th>dec</th>\n",
       "      <th>u</th>\n",
       "      <th>g</th>\n",
       "      <th>r</th>\n",
       "      <th>i</th>\n",
       "      <th>z</th>\n",
       "      <th>run</th>\n",
       "      <th>rerun</th>\n",
       "      <th>camcol</th>\n",
       "      <th>field</th>\n",
       "      <th>plate</th>\n",
       "      <th>mjd</th>\n",
       "      <th>fiberid</th>\n",
       "      <th>petroRad_u</th>\n",
       "      <th>petroRad_g</th>\n",
       "      <th>petroRad_i</th>\n",
       "      <th>petroRad_r</th>\n",
       "      <th>petroRad_z</th>\n",
       "      <th>petroFlux_u</th>\n",
       "      <th>petroFlux_g</th>\n",
       "      <th>petroFlux_i</th>\n",
       "      <th>petroFlux_r</th>\n",
       "      <th>petroFlux_z</th>\n",
       "      <th>petroR50_u</th>\n",
       "      <th>petroR50_g</th>\n",
       "      <th>petroR50_i</th>\n",
       "      <th>petroR50_r</th>\n",
       "      <th>petroR50_z</th>\n",
       "      <th>psfMag_u</th>\n",
       "      <th>psfMag_r</th>\n",
       "      <th>psfMag_g</th>\n",
       "      <th>psfMag_i</th>\n",
       "      <th>psfMag_z</th>\n",
       "      <th>expAB_u</th>\n",
       "      <th>expAB_g</th>\n",
       "      <th>expAB_r</th>\n",
       "      <th>expAB_i</th>\n",
       "      <th>expAB_z</th>\n",
       "      <th>redshift</th>\n",
       "      <th>class</th>\n",
       "    </tr>\n",
       "  </thead>\n",
       "  <tbody>\n",
       "    <tr>\n",
       "      <th>0</th>\n",
       "      <td>1.240000e+18</td>\n",
       "      <td>3.240000e+17</td>\n",
       "      <td>654.828149</td>\n",
       "      <td>0.442119</td>\n",
       "      <td>-6.971616</td>\n",
       "      <td>26.647946</td>\n",
       "      <td>33.304554</td>\n",
       "      <td>25.217579</td>\n",
       "      <td>22.548581</td>\n",
       "      <td>756</td>\n",
       "      <td>301</td>\n",
       "      <td>5</td>\n",
       "      <td>462</td>\n",
       "      <td>288</td>\n",
       "      <td>52000</td>\n",
       "      <td>456</td>\n",
       "      <td>13.467122</td>\n",
       "      <td>13.818520</td>\n",
       "      <td>15.413235</td>\n",
       "      <td>9.783112</td>\n",
       "      <td>14.456691</td>\n",
       "      <td>59.050418</td>\n",
       "      <td>130.357709</td>\n",
       "      <td>438.976112</td>\n",
       "      <td>310.976882</td>\n",
       "      <td>257.175968</td>\n",
       "      <td>10.709705</td>\n",
       "      <td>3.465409</td>\n",
       "      <td>4.628890</td>\n",
       "      <td>2.190705</td>\n",
       "      <td>3.565858</td>\n",
       "      <td>43.163454</td>\n",
       "      <td>18.971553</td>\n",
       "      <td>32.989751</td>\n",
       "      <td>8.407826</td>\n",
       "      <td>57.025631</td>\n",
       "      <td>0.427526</td>\n",
       "      <td>0.172027</td>\n",
       "      <td>0.284909</td>\n",
       "      <td>0.526590</td>\n",
       "      <td>0.958291</td>\n",
       "      <td>0.041691</td>\n",
       "      <td>0</td>\n",
       "    </tr>\n",
       "    <tr>\n",
       "      <th>1</th>\n",
       "      <td>1.240000e+18</td>\n",
       "      <td>3.250000e+17</td>\n",
       "      <td>85.062377</td>\n",
       "      <td>-0.266678</td>\n",
       "      <td>1.850808</td>\n",
       "      <td>13.686908</td>\n",
       "      <td>1.878623</td>\n",
       "      <td>-7.473086</td>\n",
       "      <td>-2.870165</td>\n",
       "      <td>756</td>\n",
       "      <td>301</td>\n",
       "      <td>5</td>\n",
       "      <td>467</td>\n",
       "      <td>289</td>\n",
       "      <td>51990</td>\n",
       "      <td>322</td>\n",
       "      <td>2.476804</td>\n",
       "      <td>0.026238</td>\n",
       "      <td>3.315163</td>\n",
       "      <td>1.943197</td>\n",
       "      <td>1.899901</td>\n",
       "      <td>26.257814</td>\n",
       "      <td>9.534216</td>\n",
       "      <td>-1.389343</td>\n",
       "      <td>6.457665</td>\n",
       "      <td>-0.169420</td>\n",
       "      <td>0.207135</td>\n",
       "      <td>1.067228</td>\n",
       "      <td>0.478591</td>\n",
       "      <td>1.594019</td>\n",
       "      <td>-0.235434</td>\n",
       "      <td>13.543565</td>\n",
       "      <td>15.414719</td>\n",
       "      <td>7.617185</td>\n",
       "      <td>10.436379</td>\n",
       "      <td>16.865282</td>\n",
       "      <td>0.694695</td>\n",
       "      <td>0.359012</td>\n",
       "      <td>0.233811</td>\n",
       "      <td>1.476477</td>\n",
       "      <td>0.411767</td>\n",
       "      <td>-0.000814</td>\n",
       "      <td>1</td>\n",
       "    </tr>\n",
       "    <tr>\n",
       "      <th>2</th>\n",
       "      <td>1.240000e+18</td>\n",
       "      <td>3.240000e+17</td>\n",
       "      <td>-125.508314</td>\n",
       "      <td>1.573015</td>\n",
       "      <td>2.334591</td>\n",
       "      <td>32.990618</td>\n",
       "      <td>20.684290</td>\n",
       "      <td>41.591400</td>\n",
       "      <td>26.415215</td>\n",
       "      <td>756</td>\n",
       "      <td>301</td>\n",
       "      <td>5</td>\n",
       "      <td>467</td>\n",
       "      <td>288</td>\n",
       "      <td>52000</td>\n",
       "      <td>614</td>\n",
       "      <td>4.739675</td>\n",
       "      <td>3.061875</td>\n",
       "      <td>7.200206</td>\n",
       "      <td>4.052170</td>\n",
       "      <td>2.656445</td>\n",
       "      <td>-20.034606</td>\n",
       "      <td>90.555343</td>\n",
       "      <td>289.175310</td>\n",
       "      <td>578.410569</td>\n",
       "      <td>364.601089</td>\n",
       "      <td>0.657806</td>\n",
       "      <td>4.159386</td>\n",
       "      <td>3.067231</td>\n",
       "      <td>1.018201</td>\n",
       "      <td>2.610210</td>\n",
       "      <td>1.108573</td>\n",
       "      <td>29.568453</td>\n",
       "      <td>48.285164</td>\n",
       "      <td>37.115676</td>\n",
       "      <td>10.590950</td>\n",
       "      <td>0.413348</td>\n",
       "      <td>0.248562</td>\n",
       "      <td>2.172214</td>\n",
       "      <td>0.449656</td>\n",
       "      <td>1.508650</td>\n",
       "      <td>0.113069</td>\n",
       "      <td>0</td>\n",
       "    </tr>\n",
       "    <tr>\n",
       "      <th>3</th>\n",
       "      <td>1.240000e+18</td>\n",
       "      <td>2.880000e+18</td>\n",
       "      <td>359.756756</td>\n",
       "      <td>1.171783</td>\n",
       "      <td>-12.490265</td>\n",
       "      <td>39.012425</td>\n",
       "      <td>18.978244</td>\n",
       "      <td>30.492216</td>\n",
       "      <td>18.370613</td>\n",
       "      <td>756</td>\n",
       "      <td>301</td>\n",
       "      <td>5</td>\n",
       "      <td>467</td>\n",
       "      <td>2558</td>\n",
       "      <td>54140</td>\n",
       "      <td>414</td>\n",
       "      <td>0.575518</td>\n",
       "      <td>1.116596</td>\n",
       "      <td>2.003511</td>\n",
       "      <td>2.455518</td>\n",
       "      <td>0.000255</td>\n",
       "      <td>32.965770</td>\n",
       "      <td>116.153411</td>\n",
       "      <td>72.881120</td>\n",
       "      <td>-140.091293</td>\n",
       "      <td>92.197067</td>\n",
       "      <td>0.803917</td>\n",
       "      <td>1.256288</td>\n",
       "      <td>0.717449</td>\n",
       "      <td>1.677227</td>\n",
       "      <td>0.206358</td>\n",
       "      <td>32.795810</td>\n",
       "      <td>-2.044414</td>\n",
       "      <td>9.284171</td>\n",
       "      <td>34.869780</td>\n",
       "      <td>-21.244234</td>\n",
       "      <td>1.379925</td>\n",
       "      <td>0.905654</td>\n",
       "      <td>-0.936079</td>\n",
       "      <td>0.753574</td>\n",
       "      <td>0.887086</td>\n",
       "      <td>0.000087</td>\n",
       "      <td>1</td>\n",
       "    </tr>\n",
       "    <tr>\n",
       "      <th>4</th>\n",
       "      <td>1.240000e+18</td>\n",
       "      <td>2.880000e+18</td>\n",
       "      <td>415.943062</td>\n",
       "      <td>0.547017</td>\n",
       "      <td>6.366479</td>\n",
       "      <td>27.959868</td>\n",
       "      <td>6.230998</td>\n",
       "      <td>5.227660</td>\n",
       "      <td>1.431530</td>\n",
       "      <td>756</td>\n",
       "      <td>301</td>\n",
       "      <td>5</td>\n",
       "      <td>467</td>\n",
       "      <td>2558</td>\n",
       "      <td>54140</td>\n",
       "      <td>403</td>\n",
       "      <td>1.063093</td>\n",
       "      <td>1.783254</td>\n",
       "      <td>-0.287812</td>\n",
       "      <td>1.345771</td>\n",
       "      <td>1.934594</td>\n",
       "      <td>51.647944</td>\n",
       "      <td>-36.124760</td>\n",
       "      <td>610.317453</td>\n",
       "      <td>537.192129</td>\n",
       "      <td>616.210202</td>\n",
       "      <td>-0.400852</td>\n",
       "      <td>1.592638</td>\n",
       "      <td>1.297898</td>\n",
       "      <td>0.997092</td>\n",
       "      <td>-0.099162</td>\n",
       "      <td>15.204861</td>\n",
       "      <td>30.989113</td>\n",
       "      <td>8.913269</td>\n",
       "      <td>27.356820</td>\n",
       "      <td>18.479905</td>\n",
       "      <td>1.631979</td>\n",
       "      <td>0.418278</td>\n",
       "      <td>1.154089</td>\n",
       "      <td>1.299102</td>\n",
       "      <td>0.762469</td>\n",
       "      <td>0.000018</td>\n",
       "      <td>1</td>\n",
       "    </tr>\n",
       "  </tbody>\n",
       "</table>\n",
       "</div>"
      ],
      "text/plain": [
       "          objid     specobjid          ra       dec          u          g   \n",
       "0  1.240000e+18  3.240000e+17  654.828149  0.442119  -6.971616  26.647946  \\\n",
       "1  1.240000e+18  3.250000e+17   85.062377 -0.266678   1.850808  13.686908   \n",
       "2  1.240000e+18  3.240000e+17 -125.508314  1.573015   2.334591  32.990618   \n",
       "3  1.240000e+18  2.880000e+18  359.756756  1.171783 -12.490265  39.012425   \n",
       "4  1.240000e+18  2.880000e+18  415.943062  0.547017   6.366479  27.959868   \n",
       "\n",
       "           r          i          z  run  rerun  camcol  field  plate    mjd   \n",
       "0  33.304554  25.217579  22.548581  756    301       5    462    288  52000  \\\n",
       "1   1.878623  -7.473086  -2.870165  756    301       5    467    289  51990   \n",
       "2  20.684290  41.591400  26.415215  756    301       5    467    288  52000   \n",
       "3  18.978244  30.492216  18.370613  756    301       5    467   2558  54140   \n",
       "4   6.230998   5.227660   1.431530  756    301       5    467   2558  54140   \n",
       "\n",
       "   fiberid  petroRad_u  petroRad_g  petroRad_i  petroRad_r  petroRad_z   \n",
       "0      456   13.467122   13.818520   15.413235    9.783112   14.456691  \\\n",
       "1      322    2.476804    0.026238    3.315163    1.943197    1.899901   \n",
       "2      614    4.739675    3.061875    7.200206    4.052170    2.656445   \n",
       "3      414    0.575518    1.116596    2.003511    2.455518    0.000255   \n",
       "4      403    1.063093    1.783254   -0.287812    1.345771    1.934594   \n",
       "\n",
       "   petroFlux_u  petroFlux_g  petroFlux_i  petroFlux_r  petroFlux_z   \n",
       "0    59.050418   130.357709   438.976112   310.976882   257.175968  \\\n",
       "1    26.257814     9.534216    -1.389343     6.457665    -0.169420   \n",
       "2   -20.034606    90.555343   289.175310   578.410569   364.601089   \n",
       "3    32.965770   116.153411    72.881120  -140.091293    92.197067   \n",
       "4    51.647944   -36.124760   610.317453   537.192129   616.210202   \n",
       "\n",
       "   petroR50_u  petroR50_g  petroR50_i  petroR50_r  petroR50_z   psfMag_u   \n",
       "0   10.709705    3.465409    4.628890    2.190705    3.565858  43.163454  \\\n",
       "1    0.207135    1.067228    0.478591    1.594019   -0.235434  13.543565   \n",
       "2    0.657806    4.159386    3.067231    1.018201    2.610210   1.108573   \n",
       "3    0.803917    1.256288    0.717449    1.677227    0.206358  32.795810   \n",
       "4   -0.400852    1.592638    1.297898    0.997092   -0.099162  15.204861   \n",
       "\n",
       "    psfMag_r   psfMag_g   psfMag_i   psfMag_z   expAB_u   expAB_g   expAB_r   \n",
       "0  18.971553  32.989751   8.407826  57.025631  0.427526  0.172027  0.284909  \\\n",
       "1  15.414719   7.617185  10.436379  16.865282  0.694695  0.359012  0.233811   \n",
       "2  29.568453  48.285164  37.115676  10.590950  0.413348  0.248562  2.172214   \n",
       "3  -2.044414   9.284171  34.869780 -21.244234  1.379925  0.905654 -0.936079   \n",
       "4  30.989113   8.913269  27.356820  18.479905  1.631979  0.418278  1.154089   \n",
       "\n",
       "    expAB_i   expAB_z  redshift  class  \n",
       "0  0.526590  0.958291  0.041691      0  \n",
       "1  1.476477  0.411767 -0.000814      1  \n",
       "2  0.449656  1.508650  0.113069      0  \n",
       "3  0.753574  0.887086  0.000087      1  \n",
       "4  1.299102  0.762469  0.000018      1  "
      ]
     },
     "execution_count": 6,
     "metadata": {},
     "output_type": "execute_result"
    }
   ],
   "source": [
    "raw_df.head()"
   ]
  },
  {
   "cell_type": "markdown",
   "metadata": {},
   "source": [
    "**Splitting data into train and test**\n",
    "\n",
    "Sample split stratified by target variable. Propotions:\n",
    "- Train:      80%\n",
    "- Validation: 20%"
   ]
  },
  {
   "cell_type": "code",
   "execution_count": 7,
   "metadata": {},
   "outputs": [],
   "source": [
    "X_train, X_test, y_train, y_test = train_test_split(\n",
    "    raw_df[feature_columms],\n",
    "    raw_df[target_column],\n",
    "    test_size=.2,\n",
    "    stratify=raw_df[target_column],\n",
    "    random_state=RND_SEED,\n",
    "    shuffle=True\n",
    ")"
   ]
  },
  {
   "cell_type": "markdown",
   "metadata": {},
   "source": [
    "### <a id='sec_3'>3. Model Development (extremely symplified)</a>\n",
    "\n",
    "Training of a LGBM algorithm in Multiclass classification set. Here we are just interested in have some model to work and validate the class and functions in development, because of this we won't work in any parameter optimization, feature engineering or something like that. \n",
    "\n",
    "\n",
    "\n",
    "[Return to Index](#index)"
   ]
  },
  {
   "cell_type": "code",
   "execution_count": 8,
   "metadata": {},
   "outputs": [
    {
     "name": "stdout",
     "output_type": "stream",
     "text": [
      "[LightGBM] [Info] Auto-choosing col-wise multi-threading, the overhead of testing was 0.008732 seconds.\n",
      "You can set `force_col_wise=true` to remove the overhead.\n",
      "[LightGBM] [Info] Total Bins 8160\n",
      "[LightGBM] [Info] Number of data points in the train set: 80000, number of used features: 32\n",
      "[LightGBM] [Info] Start training from score -1.098612\n",
      "[LightGBM] [Info] Start training from score -1.098612\n",
      "[LightGBM] [Info] Start training from score -1.098612\n"
     ]
    }
   ],
   "source": [
    "# ---\n",
    "# Evaluate class weights \n",
    "_weights = compute_class_weight(class_weight='balanced', \n",
    "                                classes=np.unique(y_train),\n",
    "                                y=y_train.values.reshape(-1))\n",
    "\n",
    "dict_class_weights = dict(zip(np.unique(raw_df[target_column]), _weights))\n",
    "\n",
    "# ---\n",
    "# LGBMClassifier Setup\n",
    "_params = {\n",
    "    'objective': 'multiclass',\n",
    "    'class_weight': dict_class_weights,\n",
    "    'random_state': RND_SEED,\n",
    "    'metric': 'multi_logloss'\n",
    "}\n",
    "\n",
    "# ---\n",
    "# Eval Set\n",
    "# eval_set = [(_x, _y) for _x, _y in zip(X_test, y_test)]\n",
    "eval_set = [(X_test, y_test.values.reshape(-1))]\n",
    "\n",
    "# ---\n",
    "# Create model object and fit them\n",
    "model = LGBMClassifier(**_params) \\\n",
    "            .fit(X_train, y_train.values.reshape(-1), eval_set=eval_set)\n",
    "\n",
    "# ---\n",
    "# Remove temporary objects\n",
    "del(_weights)"
   ]
  },
  {
   "cell_type": "code",
   "execution_count": 9,
   "metadata": {},
   "outputs": [
    {
     "data": {
      "text/html": [
       "<div>\n",
       "<style scoped>\n",
       "    .dataframe tbody tr th:only-of-type {\n",
       "        vertical-align: middle;\n",
       "    }\n",
       "\n",
       "    .dataframe tbody tr th {\n",
       "        vertical-align: top;\n",
       "    }\n",
       "\n",
       "    .dataframe thead th {\n",
       "        text-align: right;\n",
       "    }\n",
       "</style>\n",
       "<table border=\"1\" class=\"dataframe\">\n",
       "  <thead>\n",
       "    <tr style=\"text-align: right;\">\n",
       "      <th></th>\n",
       "      <th>context</th>\n",
       "      <th>target</th>\n",
       "      <th>prediction</th>\n",
       "      <th>prediction_score</th>\n",
       "      <th>score_0</th>\n",
       "      <th>score_1</th>\n",
       "      <th>score_2</th>\n",
       "    </tr>\n",
       "  </thead>\n",
       "  <tbody>\n",
       "    <tr>\n",
       "      <th>12806</th>\n",
       "      <td>train</td>\n",
       "      <td>0</td>\n",
       "      <td>0</td>\n",
       "      <td>0.987908</td>\n",
       "      <td>0.987908</td>\n",
       "      <td>0.001515</td>\n",
       "      <td>0.010577</td>\n",
       "    </tr>\n",
       "    <tr>\n",
       "      <th>24114</th>\n",
       "      <td>train</td>\n",
       "      <td>2</td>\n",
       "      <td>2</td>\n",
       "      <td>0.941810</td>\n",
       "      <td>0.007598</td>\n",
       "      <td>0.050592</td>\n",
       "      <td>0.941810</td>\n",
       "    </tr>\n",
       "    <tr>\n",
       "      <th>47459</th>\n",
       "      <td>train</td>\n",
       "      <td>1</td>\n",
       "      <td>1</td>\n",
       "      <td>0.558401</td>\n",
       "      <td>0.124836</td>\n",
       "      <td>0.558401</td>\n",
       "      <td>0.316763</td>\n",
       "    </tr>\n",
       "    <tr>\n",
       "      <th>21624</th>\n",
       "      <td>train</td>\n",
       "      <td>1</td>\n",
       "      <td>1</td>\n",
       "      <td>0.816850</td>\n",
       "      <td>0.010311</td>\n",
       "      <td>0.816850</td>\n",
       "      <td>0.172839</td>\n",
       "    </tr>\n",
       "    <tr>\n",
       "      <th>2734</th>\n",
       "      <td>validation</td>\n",
       "      <td>1</td>\n",
       "      <td>1</td>\n",
       "      <td>0.966976</td>\n",
       "      <td>0.004191</td>\n",
       "      <td>0.966976</td>\n",
       "      <td>0.028833</td>\n",
       "    </tr>\n",
       "    <tr>\n",
       "      <th>29009</th>\n",
       "      <td>train</td>\n",
       "      <td>1</td>\n",
       "      <td>1</td>\n",
       "      <td>0.992019</td>\n",
       "      <td>0.001747</td>\n",
       "      <td>0.992019</td>\n",
       "      <td>0.006234</td>\n",
       "    </tr>\n",
       "    <tr>\n",
       "      <th>6319</th>\n",
       "      <td>validation</td>\n",
       "      <td>1</td>\n",
       "      <td>1</td>\n",
       "      <td>0.958760</td>\n",
       "      <td>0.007667</td>\n",
       "      <td>0.958760</td>\n",
       "      <td>0.033573</td>\n",
       "    </tr>\n",
       "    <tr>\n",
       "      <th>5807</th>\n",
       "      <td>train</td>\n",
       "      <td>1</td>\n",
       "      <td>2</td>\n",
       "      <td>0.562349</td>\n",
       "      <td>0.005588</td>\n",
       "      <td>0.432064</td>\n",
       "      <td>0.562349</td>\n",
       "    </tr>\n",
       "    <tr>\n",
       "      <th>50797</th>\n",
       "      <td>train</td>\n",
       "      <td>2</td>\n",
       "      <td>2</td>\n",
       "      <td>0.657057</td>\n",
       "      <td>0.004002</td>\n",
       "      <td>0.338941</td>\n",
       "      <td>0.657057</td>\n",
       "    </tr>\n",
       "    <tr>\n",
       "      <th>2479</th>\n",
       "      <td>validation</td>\n",
       "      <td>0</td>\n",
       "      <td>0</td>\n",
       "      <td>0.884650</td>\n",
       "      <td>0.884650</td>\n",
       "      <td>0.028485</td>\n",
       "      <td>0.086865</td>\n",
       "    </tr>\n",
       "    <tr>\n",
       "      <th>33815</th>\n",
       "      <td>train</td>\n",
       "      <td>2</td>\n",
       "      <td>2</td>\n",
       "      <td>0.871469</td>\n",
       "      <td>0.010112</td>\n",
       "      <td>0.118420</td>\n",
       "      <td>0.871469</td>\n",
       "    </tr>\n",
       "    <tr>\n",
       "      <th>18159</th>\n",
       "      <td>validation</td>\n",
       "      <td>1</td>\n",
       "      <td>1</td>\n",
       "      <td>0.647518</td>\n",
       "      <td>0.148799</td>\n",
       "      <td>0.647518</td>\n",
       "      <td>0.203683</td>\n",
       "    </tr>\n",
       "    <tr>\n",
       "      <th>7053</th>\n",
       "      <td>train</td>\n",
       "      <td>0</td>\n",
       "      <td>0</td>\n",
       "      <td>0.985463</td>\n",
       "      <td>0.985463</td>\n",
       "      <td>0.002368</td>\n",
       "      <td>0.012169</td>\n",
       "    </tr>\n",
       "    <tr>\n",
       "      <th>7266</th>\n",
       "      <td>train</td>\n",
       "      <td>1</td>\n",
       "      <td>1</td>\n",
       "      <td>0.971679</td>\n",
       "      <td>0.003339</td>\n",
       "      <td>0.971679</td>\n",
       "      <td>0.024982</td>\n",
       "    </tr>\n",
       "    <tr>\n",
       "      <th>40843</th>\n",
       "      <td>train</td>\n",
       "      <td>1</td>\n",
       "      <td>1</td>\n",
       "      <td>0.988951</td>\n",
       "      <td>0.002042</td>\n",
       "      <td>0.988951</td>\n",
       "      <td>0.009007</td>\n",
       "    </tr>\n",
       "    <tr>\n",
       "      <th>28334</th>\n",
       "      <td>train</td>\n",
       "      <td>1</td>\n",
       "      <td>1</td>\n",
       "      <td>0.879961</td>\n",
       "      <td>0.063659</td>\n",
       "      <td>0.879961</td>\n",
       "      <td>0.056380</td>\n",
       "    </tr>\n",
       "    <tr>\n",
       "      <th>9935</th>\n",
       "      <td>train</td>\n",
       "      <td>1</td>\n",
       "      <td>1</td>\n",
       "      <td>0.593912</td>\n",
       "      <td>0.073095</td>\n",
       "      <td>0.593912</td>\n",
       "      <td>0.332994</td>\n",
       "    </tr>\n",
       "    <tr>\n",
       "      <th>66340</th>\n",
       "      <td>train</td>\n",
       "      <td>1</td>\n",
       "      <td>1</td>\n",
       "      <td>0.942676</td>\n",
       "      <td>0.002842</td>\n",
       "      <td>0.942676</td>\n",
       "      <td>0.054482</td>\n",
       "    </tr>\n",
       "    <tr>\n",
       "      <th>62645</th>\n",
       "      <td>train</td>\n",
       "      <td>0</td>\n",
       "      <td>0</td>\n",
       "      <td>0.967843</td>\n",
       "      <td>0.967843</td>\n",
       "      <td>0.002106</td>\n",
       "      <td>0.030052</td>\n",
       "    </tr>\n",
       "    <tr>\n",
       "      <th>3207</th>\n",
       "      <td>train</td>\n",
       "      <td>0</td>\n",
       "      <td>0</td>\n",
       "      <td>0.979675</td>\n",
       "      <td>0.979675</td>\n",
       "      <td>0.005029</td>\n",
       "      <td>0.015296</td>\n",
       "    </tr>\n",
       "    <tr>\n",
       "      <th>18238</th>\n",
       "      <td>validation</td>\n",
       "      <td>1</td>\n",
       "      <td>1</td>\n",
       "      <td>0.729992</td>\n",
       "      <td>0.008126</td>\n",
       "      <td>0.729992</td>\n",
       "      <td>0.261882</td>\n",
       "    </tr>\n",
       "    <tr>\n",
       "      <th>61791</th>\n",
       "      <td>train</td>\n",
       "      <td>1</td>\n",
       "      <td>1</td>\n",
       "      <td>0.464113</td>\n",
       "      <td>0.161755</td>\n",
       "      <td>0.464113</td>\n",
       "      <td>0.374133</td>\n",
       "    </tr>\n",
       "    <tr>\n",
       "      <th>14502</th>\n",
       "      <td>train</td>\n",
       "      <td>0</td>\n",
       "      <td>0</td>\n",
       "      <td>0.794241</td>\n",
       "      <td>0.794241</td>\n",
       "      <td>0.013736</td>\n",
       "      <td>0.192023</td>\n",
       "    </tr>\n",
       "    <tr>\n",
       "      <th>20601</th>\n",
       "      <td>train</td>\n",
       "      <td>0</td>\n",
       "      <td>0</td>\n",
       "      <td>0.985820</td>\n",
       "      <td>0.985820</td>\n",
       "      <td>0.002526</td>\n",
       "      <td>0.011653</td>\n",
       "    </tr>\n",
       "    <tr>\n",
       "      <th>17870</th>\n",
       "      <td>train</td>\n",
       "      <td>0</td>\n",
       "      <td>0</td>\n",
       "      <td>0.990009</td>\n",
       "      <td>0.990009</td>\n",
       "      <td>0.000724</td>\n",
       "      <td>0.009266</td>\n",
       "    </tr>\n",
       "    <tr>\n",
       "      <th>6466</th>\n",
       "      <td>train</td>\n",
       "      <td>1</td>\n",
       "      <td>1</td>\n",
       "      <td>0.959379</td>\n",
       "      <td>0.006839</td>\n",
       "      <td>0.959379</td>\n",
       "      <td>0.033783</td>\n",
       "    </tr>\n",
       "    <tr>\n",
       "      <th>16861</th>\n",
       "      <td>validation</td>\n",
       "      <td>0</td>\n",
       "      <td>0</td>\n",
       "      <td>0.941494</td>\n",
       "      <td>0.941494</td>\n",
       "      <td>0.007387</td>\n",
       "      <td>0.051119</td>\n",
       "    </tr>\n",
       "    <tr>\n",
       "      <th>45300</th>\n",
       "      <td>train</td>\n",
       "      <td>1</td>\n",
       "      <td>1</td>\n",
       "      <td>0.881879</td>\n",
       "      <td>0.026683</td>\n",
       "      <td>0.881879</td>\n",
       "      <td>0.091438</td>\n",
       "    </tr>\n",
       "    <tr>\n",
       "      <th>30768</th>\n",
       "      <td>train</td>\n",
       "      <td>0</td>\n",
       "      <td>0</td>\n",
       "      <td>0.826312</td>\n",
       "      <td>0.826312</td>\n",
       "      <td>0.060539</td>\n",
       "      <td>0.113149</td>\n",
       "    </tr>\n",
       "    <tr>\n",
       "      <th>31513</th>\n",
       "      <td>train</td>\n",
       "      <td>1</td>\n",
       "      <td>1</td>\n",
       "      <td>0.997436</td>\n",
       "      <td>0.000355</td>\n",
       "      <td>0.997436</td>\n",
       "      <td>0.002209</td>\n",
       "    </tr>\n",
       "  </tbody>\n",
       "</table>\n",
       "</div>"
      ],
      "text/plain": [
       "          context  target  prediction  prediction_score   score_0   score_1   \n",
       "12806       train       0           0          0.987908  0.987908  0.001515  \\\n",
       "24114       train       2           2          0.941810  0.007598  0.050592   \n",
       "47459       train       1           1          0.558401  0.124836  0.558401   \n",
       "21624       train       1           1          0.816850  0.010311  0.816850   \n",
       "2734   validation       1           1          0.966976  0.004191  0.966976   \n",
       "29009       train       1           1          0.992019  0.001747  0.992019   \n",
       "6319   validation       1           1          0.958760  0.007667  0.958760   \n",
       "5807        train       1           2          0.562349  0.005588  0.432064   \n",
       "50797       train       2           2          0.657057  0.004002  0.338941   \n",
       "2479   validation       0           0          0.884650  0.884650  0.028485   \n",
       "33815       train       2           2          0.871469  0.010112  0.118420   \n",
       "18159  validation       1           1          0.647518  0.148799  0.647518   \n",
       "7053        train       0           0          0.985463  0.985463  0.002368   \n",
       "7266        train       1           1          0.971679  0.003339  0.971679   \n",
       "40843       train       1           1          0.988951  0.002042  0.988951   \n",
       "28334       train       1           1          0.879961  0.063659  0.879961   \n",
       "9935        train       1           1          0.593912  0.073095  0.593912   \n",
       "66340       train       1           1          0.942676  0.002842  0.942676   \n",
       "62645       train       0           0          0.967843  0.967843  0.002106   \n",
       "3207        train       0           0          0.979675  0.979675  0.005029   \n",
       "18238  validation       1           1          0.729992  0.008126  0.729992   \n",
       "61791       train       1           1          0.464113  0.161755  0.464113   \n",
       "14502       train       0           0          0.794241  0.794241  0.013736   \n",
       "20601       train       0           0          0.985820  0.985820  0.002526   \n",
       "17870       train       0           0          0.990009  0.990009  0.000724   \n",
       "6466        train       1           1          0.959379  0.006839  0.959379   \n",
       "16861  validation       0           0          0.941494  0.941494  0.007387   \n",
       "45300       train       1           1          0.881879  0.026683  0.881879   \n",
       "30768       train       0           0          0.826312  0.826312  0.060539   \n",
       "31513       train       1           1          0.997436  0.000355  0.997436   \n",
       "\n",
       "        score_2  \n",
       "12806  0.010577  \n",
       "24114  0.941810  \n",
       "47459  0.316763  \n",
       "21624  0.172839  \n",
       "2734   0.028833  \n",
       "29009  0.006234  \n",
       "6319   0.033573  \n",
       "5807   0.562349  \n",
       "50797  0.657057  \n",
       "2479   0.086865  \n",
       "33815  0.871469  \n",
       "18159  0.203683  \n",
       "7053   0.012169  \n",
       "7266   0.024982  \n",
       "40843  0.009007  \n",
       "28334  0.056380  \n",
       "9935   0.332994  \n",
       "66340  0.054482  \n",
       "62645  0.030052  \n",
       "3207   0.015296  \n",
       "18238  0.261882  \n",
       "61791  0.374133  \n",
       "14502  0.192023  \n",
       "20601  0.011653  \n",
       "17870  0.009266  \n",
       "6466   0.033783  \n",
       "16861  0.051119  \n",
       "45300  0.091438  \n",
       "30768  0.113149  \n",
       "31513  0.002209  "
      ]
     },
     "execution_count": 9,
     "metadata": {},
     "output_type": "execute_result"
    }
   ],
   "source": [
    "# Classifications Results\n",
    "\n",
    "df_predictions = pd.concat([\n",
    "    pd.DataFrame({\n",
    "        'context': ['train' for _ in y_train.values],\n",
    "        'target': [_y[0] for _y in y_train.values],\n",
    "        'prediction': model.predict(X_train),\n",
    "        'prediction_score': [np.max(_s) for _s in model.predict_proba(X_train)],\n",
    "        'score_0': [_s[0] for _s in model.predict_proba(X_train)],\n",
    "        'score_1': [_s[1] for _s in model.predict_proba(X_train)],\n",
    "        'score_2': [_s[2] for _s in model.predict_proba(X_train)],\n",
    "    }),\n",
    "    pd.DataFrame({\n",
    "        'context': ['validation' for _s in y_test.values],\n",
    "        'target': [_y[0] for _y in y_test.values],\n",
    "        'prediction': model.predict(X_test),\n",
    "        'prediction_score': [np.max(_s) for _s in model.predict_proba(X_test)],\n",
    "        'score_0': [_s[0] for _s in model.predict_proba(X_test)],\n",
    "        'score_1': [_s[1] for _s in model.predict_proba(X_test)],\n",
    "        'score_2': [_s[2] for _s in model.predict_proba(X_test)],\n",
    "    }),\n",
    "])\n",
    "\n",
    "df_predictions.sample(n=30).head(30)"
   ]
  },
  {
   "cell_type": "markdown",
   "metadata": {},
   "source": [
    "### <a id='sec_31'>3.1. Model Metrics</a>\n",
    "\n",
    "\n",
    "\n",
    "[Return to Index](#index)"
   ]
  },
  {
   "cell_type": "code",
   "execution_count": 10,
   "metadata": {},
   "outputs": [
    {
     "name": "stdout",
     "output_type": "stream",
     "text": [
      "ROC_AUC Score for class 0:              0.9892687454251247\n",
      "ROC_AUC Score for class 1:              0.9783802626962561\n",
      "ROC_AUC Score for class 2:              0.9333228923420015\n",
      "----------------------------------------------------------\n",
      "ROC_AUC Score (General - Train):        0.987335614140625\n",
      "ROC_AUC Score (General - Validation):   0.9784488724999999\n"
     ]
    }
   ],
   "source": [
    "# One vs All\n",
    "_context = 'validation'\n",
    "\n",
    "_df_aux = df_predictions[df_predictions['context']==_context]\n",
    "\n",
    "for _c in dict_class_weights.keys():\n",
    "    _score = _df_aux['score_' + str(_c)].to_list()\n",
    "    _y_pred = [1 if _p==_c else 0 for _p in _df_aux['prediction']]\n",
    "    _y_true = [1 if _p==_c else 0 for _p in _df_aux['target']]\n",
    "\n",
    "    _roc_auc = roc_auc_score(_y_true, _score)\n",
    "\n",
    "    print(f\"ROC_AUC Score for class {_c}:              {_roc_auc}\")\n",
    "\n",
    "print('----------------------------------------------------------')\n",
    "\n",
    "# ROC-AUC: Train\n",
    "_roc_auc = roc_auc_score(\n",
    "    y_train.values,\n",
    "    model.predict_proba(X_train), \n",
    "    multi_class='ovr',\n",
    "    average=\"micro\")\n",
    "\n",
    "print(f\"ROC_AUC Score (General - Train):        {_roc_auc}\")\n",
    "\n",
    "# ROC-AUC: Validation\n",
    "_roc_auc = roc_auc_score(\n",
    "    y_test.values,\n",
    "    model.predict_proba(X_test), \n",
    "    multi_class='ovr',\n",
    "    average=\"micro\")\n",
    "\n",
    "print(f\"ROC_AUC Score (General - Validation):   {_roc_auc}\")"
   ]
  },
  {
   "cell_type": "code",
   "execution_count": 11,
   "metadata": {},
   "outputs": [
    {
     "data": {
      "image/png": "[encoded data removed]",
      "text/plain": [
       "<Figure size 800x950 with 1 Axes>"
      ]
     },
     "metadata": {},
     "output_type": "display_data"
    }
   ],
   "source": [
    "explainer = shap.TreeExplainer(model)\n",
    "shap_values = explainer.shap_values(X_train)\n",
    "\n",
    "shap.summary_plot(shap_values, X_train, feature_names=feature_columms)\n"
   ]
  },
  {
   "cell_type": "markdown",
   "metadata": {},
   "source": [
    "### Bootstrap Metrics (remove after)"
   ]
  },
  {
   "cell_type": "code",
   "execution_count": 12,
   "metadata": {},
   "outputs": [],
   "source": [
    "from sklearn.model_selection import train_test_split\n",
    "from sklearn.metrics import roc_auc_score, f1_score, average_precision_score\n",
    "from sklearn.metrics import precision_score, recall_score, log_loss\n",
    "from sklearn.metrics import brier_score_loss, accuracy_score\n",
    "\n",
    "from tqdm import tqdm\n",
    "\n",
    "\n",
    "def get_classification_metrics(y_true, y_predicted, y_score):\n",
    "    # Evaluate binary classification metrics (if multi-class, just evaluate\n",
    "    # One vs Rest)\n",
    "    if len(np.unique(y_true)) > 1:\n",
    "        multi_class = 'ovr'\n",
    "        metric_avg = 'micro'\n",
    "    else:\n",
    "        multi_class = 'raise'\n",
    "        metric_avg = 'binary'\n",
    "\n",
    "    return {\n",
    "        'roc_auc_score': roc_auc_score(y_true, y_score, multi_class=multi_class),\n",
    "        'gini_score': 2 * roc_auc_score(y_true, y_score, \n",
    "                                        multi_class=multi_class) - 1,\n",
    "        'f1_score': f1_score(y_true, y_predicted, average=metric_avg),\n",
    "        'average_precision_score': average_precision_score(y_true, y_score),\n",
    "        'precision_score': precision_score(y_true, y_predicted, \n",
    "                                           average=metric_avg),\n",
    "        'recall_score': recall_score(y_true, y_predicted, average=metric_avg),\n",
    "        'log_loss': log_loss(y_true, y_score),\n",
    "        # 'brier_score_loss': brier_score_loss(y_true, y_score),\n",
    "        'accuracy_score': accuracy_score(y_true, y_predicted),\n",
    "    }\n",
    "\n",
    "\n",
    "# def get_bs_samples(X, y, bootstrap_samples):\n",
    "#     return train_test_split(X, y, test_size= 1/bootstrap_samples)\n",
    "def eval_bs_metrics(model_obj,\n",
    "                    X,\n",
    "                    y,\n",
    "                    bootstrap_samples=5,\n",
    "                    n_iteractions=1000):\n",
    "\n",
    "    # y_classes = np.unique(y)\n",
    "\n",
    "    df_metrics = pd.DataFrame(\n",
    "        columns=['iteraction', 'roc_auc_score', 'gini_score', 'f1_score',\n",
    "                 'average_precision_score', 'precision_score', 'recall_score',\n",
    "                 'log_loss', 'accuracy_score']\n",
    "    )\n",
    "\n",
    "    for i in tqdm(range(n_iteractions)):\n",
    "        # Evaluate BootStrap Samples:\n",
    "        X_train, X_test, y_train, y_test = train_test_split(\n",
    "            X, \n",
    "            y, \n",
    "            test_size= 1/bootstrap_samples,\n",
    "            shuffle=True,\n",
    "            stratify=y\n",
    "            )\n",
    "        \n",
    "        model_obj.fit(X_train, y_train);\n",
    "\n",
    "        y_predicted = model_obj.predict(X_test)\n",
    "        y_score = model_obj.predict_proba(X_test)\n",
    "\n",
    "        _metrics = get_classification_metrics(y_test, y_predicted, y_score)\n",
    "        _metrics['iteraction'] = i\n",
    "\n",
    "        df_metrics = pd.concat([\n",
    "            df_metrics,\n",
    "            pd.DataFrame(_metrics, index=[0])\n",
    "        ])\n",
    "\n",
    "    return df_metrics"
   ]
  },
  {
   "cell_type": "code",
   "execution_count": 13,
   "metadata": {},
   "outputs": [
    {
     "name": "stdout",
     "output_type": "stream",
     "text": [
      "[LightGBM] [Info] Auto-choosing col-wise multi-threading, the overhead of testing was 0.009869 seconds.\n",
      "You can set `force_col_wise=true` to remove the overhead.\n",
      "[LightGBM] [Info] Total Bins 8160\n",
      "[LightGBM] [Info] Number of data points in the train set: 90000, number of used features: 32\n",
      "[LightGBM] [Info] Start training from score -1.098612\n",
      "[LightGBM] [Info] Start training from score -1.098612\n",
      "[LightGBM] [Info] Start training from score -1.098612\n"
     ]
    }
   ],
   "source": [
    "X_train, X_test, y_train, y_test = train_test_split(\n",
    "    raw_df[feature_columms],\n",
    "    raw_df[target_column],\n",
    "    test_size=.1,\n",
    "    stratify=raw_df[target_column],\n",
    "    random_state=RND_SEED,\n",
    "    shuffle=True\n",
    ")\n",
    "\n",
    "# ---\n",
    "# Evaluate class weights \n",
    "_weights = compute_class_weight(class_weight='balanced', \n",
    "                                classes=np.unique(y_train),\n",
    "                                y=y_train.values.reshape(-1))\n",
    "\n",
    "dict_class_weights = dict(zip(np.unique(raw_df[target_column]), _weights))\n",
    "\n",
    "# ---\n",
    "# Eval Set\n",
    "eval_set = [(X_test, y_test.values.reshape(-1))]\n",
    "\n",
    "# ---\n",
    "# LGBMClassifier Setup\n",
    "_params = {\n",
    "    'objective': 'multiclass',\n",
    "    'class_weight': dict_class_weights,\n",
    "    'random_state': RND_SEED,\n",
    "    'metric': 'multi_logloss',\n",
    "}\n",
    "\n",
    "\n",
    "# ---\n",
    "# Create model object and fit them\n",
    "model = LGBMClassifier(**_params) \\\n",
    "            .fit(X_train, y_train.values.reshape(-1), eval_set=eval_set)\n",
    "\n",
    "# ---\n",
    "# Remove temporary objects\n",
    "del(_weights)"
   ]
  },
  {
   "cell_type": "code",
   "execution_count": 14,
   "metadata": {},
   "outputs": [],
   "source": [
    "# eval_bs_metrics(model, X_train, y_train, n_iteractions=30)\n"
   ]
  },
  {
   "cell_type": "code",
   "execution_count": 15,
   "metadata": {},
   "outputs": [],
   "source": [
    "# del(bootstrap) "
   ]
  },
  {
   "cell_type": "code",
   "execution_count": 16,
   "metadata": {},
   "outputs": [
    {
     "name": "stderr",
     "output_type": "stream",
     "text": [
      "  0%|          | 0/30 [00:00<?, ?it/s]"
     ]
    },
    {
     "name": "stdout",
     "output_type": "stream",
     "text": [
      "[LightGBM] [Info] Auto-choosing col-wise multi-threading, the overhead of testing was 0.008338 seconds.\n",
      "You can set `force_col_wise=true` to remove the overhead.\n",
      "[LightGBM] [Info] Total Bins 8160\n",
      "[LightGBM] [Info] Number of data points in the train set: 81000, number of used features: 32\n",
      "[LightGBM] [Info] Start training from score -1.098621\n",
      "[LightGBM] [Info] Start training from score -1.098622\n",
      "[LightGBM] [Info] Start training from score -1.098595\n"
     ]
    },
    {
     "name": "stderr",
     "output_type": "stream",
     "text": [
      "  3%|▎         | 1/30 [00:02<01:21,  2.81s/it]"
     ]
    },
    {
     "name": "stdout",
     "output_type": "stream",
     "text": [
      "[LightGBM] [Info] Auto-choosing col-wise multi-threading, the overhead of testing was 0.009367 seconds.\n",
      "You can set `force_col_wise=true` to remove the overhead.\n",
      "[LightGBM] [Info] Total Bins 8160\n",
      "[LightGBM] [Info] Number of data points in the train set: 81000, number of used features: 32\n",
      "[LightGBM] [Info] Start training from score -1.098621\n",
      "[LightGBM] [Info] Start training from score -1.098622\n",
      "[LightGBM] [Info] Start training from score -1.098595\n"
     ]
    },
    {
     "name": "stderr",
     "output_type": "stream",
     "text": [
      "  7%|▋         | 2/30 [00:05<01:13,  2.63s/it]"
     ]
    },
    {
     "name": "stdout",
     "output_type": "stream",
     "text": [
      "[LightGBM] [Info] Auto-choosing col-wise multi-threading, the overhead of testing was 0.008326 seconds.\n",
      "You can set `force_col_wise=true` to remove the overhead.\n",
      "[LightGBM] [Info] Total Bins 8160\n",
      "[LightGBM] [Info] Number of data points in the train set: 81000, number of used features: 32\n",
      "[LightGBM] [Info] Start training from score -1.098621\n",
      "[LightGBM] [Info] Start training from score -1.098622\n",
      "[LightGBM] [Info] Start training from score -1.098595\n"
     ]
    },
    {
     "name": "stderr",
     "output_type": "stream",
     "text": [
      " 10%|█         | 3/30 [00:08<01:11,  2.66s/it]"
     ]
    },
    {
     "name": "stdout",
     "output_type": "stream",
     "text": [
      "[LightGBM] [Info] Auto-choosing col-wise multi-threading, the overhead of testing was 0.008878 seconds.\n",
      "You can set `force_col_wise=true` to remove the overhead.\n",
      "[LightGBM] [Info] Total Bins 8160\n",
      "[LightGBM] [Info] Number of data points in the train set: 81000, number of used features: 32\n",
      "[LightGBM] [Info] Start training from score -1.098621\n",
      "[LightGBM] [Info] Start training from score -1.098622\n",
      "[LightGBM] [Info] Start training from score -1.098595\n"
     ]
    },
    {
     "name": "stderr",
     "output_type": "stream",
     "text": [
      " 13%|█▎        | 4/30 [00:10<01:07,  2.59s/it]"
     ]
    },
    {
     "name": "stdout",
     "output_type": "stream",
     "text": [
      "[LightGBM] [Info] Auto-choosing col-wise multi-threading, the overhead of testing was 0.008941 seconds.\n",
      "You can set `force_col_wise=true` to remove the overhead.\n",
      "[LightGBM] [Info] Total Bins 8160\n",
      "[LightGBM] [Info] Number of data points in the train set: 81000, number of used features: 32\n",
      "[LightGBM] [Info] Start training from score -1.098621\n",
      "[LightGBM] [Info] Start training from score -1.098622\n",
      "[LightGBM] [Info] Start training from score -1.098595\n"
     ]
    },
    {
     "name": "stderr",
     "output_type": "stream",
     "text": [
      " 17%|█▋        | 5/30 [00:13<01:04,  2.56s/it]"
     ]
    },
    {
     "name": "stdout",
     "output_type": "stream",
     "text": [
      "[LightGBM] [Info] Auto-choosing col-wise multi-threading, the overhead of testing was 0.008672 seconds.\n",
      "You can set `force_col_wise=true` to remove the overhead.\n",
      "[LightGBM] [Info] Total Bins 8160\n",
      "[LightGBM] [Info] Number of data points in the train set: 81000, number of used features: 32\n",
      "[LightGBM] [Info] Start training from score -1.098621\n",
      "[LightGBM] [Info] Start training from score -1.098622\n",
      "[LightGBM] [Info] Start training from score -1.098595\n"
     ]
    },
    {
     "name": "stderr",
     "output_type": "stream",
     "text": [
      " 20%|██        | 6/30 [00:15<01:04,  2.67s/it]"
     ]
    },
    {
     "name": "stdout",
     "output_type": "stream",
     "text": [
      "[LightGBM] [Info] Auto-choosing col-wise multi-threading, the overhead of testing was 0.009381 seconds.\n",
      "You can set `force_col_wise=true` to remove the overhead.\n",
      "[LightGBM] [Info] Total Bins 8160\n",
      "[LightGBM] [Info] Number of data points in the train set: 81000, number of used features: 32\n",
      "[LightGBM] [Info] Start training from score -1.098621\n",
      "[LightGBM] [Info] Start training from score -1.098622\n",
      "[LightGBM] [Info] Start training from score -1.098595\n"
     ]
    },
    {
     "name": "stderr",
     "output_type": "stream",
     "text": [
      " 23%|██▎       | 7/30 [00:18<01:02,  2.71s/it]"
     ]
    },
    {
     "name": "stdout",
     "output_type": "stream",
     "text": [
      "[LightGBM] [Info] Auto-choosing col-wise multi-threading, the overhead of testing was 0.008249 seconds.\n",
      "You can set `force_col_wise=true` to remove the overhead.\n",
      "[LightGBM] [Info] Total Bins 8160\n",
      "[LightGBM] [Info] Number of data points in the train set: 81000, number of used features: 32\n",
      "[LightGBM] [Info] Start training from score -1.098621\n",
      "[LightGBM] [Info] Start training from score -1.098622\n",
      "[LightGBM] [Info] Start training from score -1.098595\n"
     ]
    },
    {
     "name": "stderr",
     "output_type": "stream",
     "text": [
      " 27%|██▋       | 8/30 [00:21<00:58,  2.67s/it]"
     ]
    },
    {
     "name": "stdout",
     "output_type": "stream",
     "text": [
      "[LightGBM] [Info] Auto-choosing col-wise multi-threading, the overhead of testing was 0.008438 seconds.\n",
      "You can set `force_col_wise=true` to remove the overhead.\n",
      "[LightGBM] [Info] Total Bins 8160\n",
      "[LightGBM] [Info] Number of data points in the train set: 81000, number of used features: 32\n",
      "[LightGBM] [Info] Start training from score -1.098621\n",
      "[LightGBM] [Info] Start training from score -1.098622\n",
      "[LightGBM] [Info] Start training from score -1.098595\n"
     ]
    },
    {
     "name": "stderr",
     "output_type": "stream",
     "text": [
      " 30%|███       | 9/30 [00:23<00:54,  2.60s/it]"
     ]
    },
    {
     "name": "stdout",
     "output_type": "stream",
     "text": [
      "[LightGBM] [Info] Auto-choosing col-wise multi-threading, the overhead of testing was 0.011266 seconds.\n",
      "You can set `force_col_wise=true` to remove the overhead.\n",
      "[LightGBM] [Info] Total Bins 8160\n",
      "[LightGBM] [Info] Number of data points in the train set: 81000, number of used features: 32\n",
      "[LightGBM] [Info] Start training from score -1.098621\n",
      "[LightGBM] [Info] Start training from score -1.098622\n",
      "[LightGBM] [Info] Start training from score -1.098595\n"
     ]
    },
    {
     "name": "stderr",
     "output_type": "stream",
     "text": [
      " 33%|███▎      | 10/30 [00:26<00:53,  2.69s/it]"
     ]
    },
    {
     "name": "stdout",
     "output_type": "stream",
     "text": [
      "[LightGBM] [Info] Auto-choosing col-wise multi-threading, the overhead of testing was 0.008415 seconds.\n",
      "You can set `force_col_wise=true` to remove the overhead.\n",
      "[LightGBM] [Info] Total Bins 8160\n",
      "[LightGBM] [Info] Number of data points in the train set: 81000, number of used features: 32\n",
      "[LightGBM] [Info] Start training from score -1.098621\n",
      "[LightGBM] [Info] Start training from score -1.098622\n",
      "[LightGBM] [Info] Start training from score -1.098595\n"
     ]
    },
    {
     "name": "stderr",
     "output_type": "stream",
     "text": [
      " 37%|███▋      | 11/30 [00:29<00:50,  2.68s/it]"
     ]
    },
    {
     "name": "stdout",
     "output_type": "stream",
     "text": [
      "[LightGBM] [Info] Auto-choosing col-wise multi-threading, the overhead of testing was 0.010517 seconds.\n",
      "You can set `force_col_wise=true` to remove the overhead.\n",
      "[LightGBM] [Info] Total Bins 8160\n",
      "[LightGBM] [Info] Number of data points in the train set: 81000, number of used features: 32\n",
      "[LightGBM] [Info] Start training from score -1.098621\n",
      "[LightGBM] [Info] Start training from score -1.098622\n",
      "[LightGBM] [Info] Start training from score -1.098595\n"
     ]
    },
    {
     "name": "stderr",
     "output_type": "stream",
     "text": [
      " 40%|████      | 12/30 [00:31<00:47,  2.64s/it]"
     ]
    },
    {
     "name": "stdout",
     "output_type": "stream",
     "text": [
      "[LightGBM] [Info] Auto-choosing col-wise multi-threading, the overhead of testing was 0.008387 seconds.\n",
      "You can set `force_col_wise=true` to remove the overhead.\n",
      "[LightGBM] [Info] Total Bins 8160\n",
      "[LightGBM] [Info] Number of data points in the train set: 81000, number of used features: 32\n",
      "[LightGBM] [Info] Start training from score -1.098621\n",
      "[LightGBM] [Info] Start training from score -1.098622\n",
      "[LightGBM] [Info] Start training from score -1.098595\n"
     ]
    },
    {
     "name": "stderr",
     "output_type": "stream",
     "text": [
      " 43%|████▎     | 13/30 [00:34<00:43,  2.57s/it]"
     ]
    },
    {
     "name": "stdout",
     "output_type": "stream",
     "text": [
      "[LightGBM] [Info] Auto-choosing col-wise multi-threading, the overhead of testing was 0.009138 seconds.\n",
      "You can set `force_col_wise=true` to remove the overhead.\n",
      "[LightGBM] [Info] Total Bins 8160\n",
      "[LightGBM] [Info] Number of data points in the train set: 81000, number of used features: 32\n",
      "[LightGBM] [Info] Start training from score -1.098621\n",
      "[LightGBM] [Info] Start training from score -1.098622\n",
      "[LightGBM] [Info] Start training from score -1.098595\n"
     ]
    },
    {
     "name": "stderr",
     "output_type": "stream",
     "text": [
      " 47%|████▋     | 14/30 [00:36<00:40,  2.52s/it]"
     ]
    },
    {
     "name": "stdout",
     "output_type": "stream",
     "text": [
      "[LightGBM] [Info] Auto-choosing col-wise multi-threading, the overhead of testing was 0.008430 seconds.\n",
      "You can set `force_col_wise=true` to remove the overhead.\n",
      "[LightGBM] [Info] Total Bins 8160\n",
      "[LightGBM] [Info] Number of data points in the train set: 81000, number of used features: 32\n",
      "[LightGBM] [Info] Start training from score -1.098621\n",
      "[LightGBM] [Info] Start training from score -1.098622\n",
      "[LightGBM] [Info] Start training from score -1.098595\n"
     ]
    },
    {
     "name": "stderr",
     "output_type": "stream",
     "text": [
      " 50%|█████     | 15/30 [00:38<00:37,  2.47s/it]"
     ]
    },
    {
     "name": "stdout",
     "output_type": "stream",
     "text": [
      "[LightGBM] [Info] Auto-choosing col-wise multi-threading, the overhead of testing was 0.008795 seconds.\n",
      "You can set `force_col_wise=true` to remove the overhead.\n",
      "[LightGBM] [Info] Total Bins 8160\n",
      "[LightGBM] [Info] Number of data points in the train set: 81000, number of used features: 32\n",
      "[LightGBM] [Info] Start training from score -1.098621\n",
      "[LightGBM] [Info] Start training from score -1.098622\n",
      "[LightGBM] [Info] Start training from score -1.098595\n"
     ]
    },
    {
     "name": "stderr",
     "output_type": "stream",
     "text": [
      " 53%|█████▎    | 16/30 [00:41<00:34,  2.48s/it]"
     ]
    },
    {
     "name": "stdout",
     "output_type": "stream",
     "text": [
      "[LightGBM] [Info] Auto-choosing col-wise multi-threading, the overhead of testing was 0.008721 seconds.\n",
      "You can set `force_col_wise=true` to remove the overhead.\n",
      "[LightGBM] [Info] Total Bins 8160\n",
      "[LightGBM] [Info] Number of data points in the train set: 81000, number of used features: 32\n",
      "[LightGBM] [Info] Start training from score -1.098621\n",
      "[LightGBM] [Info] Start training from score -1.098622\n",
      "[LightGBM] [Info] Start training from score -1.098595\n"
     ]
    },
    {
     "name": "stderr",
     "output_type": "stream",
     "text": [
      " 57%|█████▋    | 17/30 [00:43<00:31,  2.45s/it]"
     ]
    },
    {
     "name": "stdout",
     "output_type": "stream",
     "text": [
      "[LightGBM] [Info] Auto-choosing col-wise multi-threading, the overhead of testing was 0.010023 seconds.\n",
      "You can set `force_col_wise=true` to remove the overhead.\n",
      "[LightGBM] [Info] Total Bins 8160\n",
      "[LightGBM] [Info] Number of data points in the train set: 81000, number of used features: 32\n",
      "[LightGBM] [Info] Start training from score -1.098621\n",
      "[LightGBM] [Info] Start training from score -1.098622\n",
      "[LightGBM] [Info] Start training from score -1.098595\n"
     ]
    },
    {
     "name": "stderr",
     "output_type": "stream",
     "text": [
      " 60%|██████    | 18/30 [00:46<00:31,  2.62s/it]"
     ]
    },
    {
     "name": "stdout",
     "output_type": "stream",
     "text": [
      "[LightGBM] [Info] Auto-choosing col-wise multi-threading, the overhead of testing was 0.011620 seconds.\n",
      "You can set `force_col_wise=true` to remove the overhead.\n",
      "[LightGBM] [Info] Total Bins 8160\n",
      "[LightGBM] [Info] Number of data points in the train set: 81000, number of used features: 32\n",
      "[LightGBM] [Info] Start training from score -1.098621\n",
      "[LightGBM] [Info] Start training from score -1.098622\n",
      "[LightGBM] [Info] Start training from score -1.098595\n"
     ]
    },
    {
     "name": "stderr",
     "output_type": "stream",
     "text": [
      " 63%|██████▎   | 19/30 [00:49<00:29,  2.69s/it]"
     ]
    },
    {
     "name": "stdout",
     "output_type": "stream",
     "text": [
      "[LightGBM] [Info] Auto-choosing col-wise multi-threading, the overhead of testing was 0.010225 seconds.\n",
      "You can set `force_col_wise=true` to remove the overhead.\n",
      "[LightGBM] [Info] Total Bins 8160\n",
      "[LightGBM] [Info] Number of data points in the train set: 81000, number of used features: 32\n",
      "[LightGBM] [Info] Start training from score -1.098621\n",
      "[LightGBM] [Info] Start training from score -1.098622\n",
      "[LightGBM] [Info] Start training from score -1.098595\n"
     ]
    },
    {
     "name": "stderr",
     "output_type": "stream",
     "text": [
      " 67%|██████▋   | 20/30 [00:52<00:27,  2.76s/it]"
     ]
    },
    {
     "name": "stdout",
     "output_type": "stream",
     "text": [
      "[LightGBM] [Info] Auto-choosing row-wise multi-threading, the overhead of testing was 0.002128 seconds.\n",
      "You can set `force_row_wise=true` to remove the overhead.\n",
      "And if memory is not enough, you can set `force_col_wise=true`.\n",
      "[LightGBM] [Info] Total Bins 8160\n",
      "[LightGBM] [Info] Number of data points in the train set: 81000, number of used features: 32\n",
      "[LightGBM] [Info] Start training from score -1.098621\n",
      "[LightGBM] [Info] Start training from score -1.098622\n",
      "[LightGBM] [Info] Start training from score -1.098595\n"
     ]
    },
    {
     "name": "stderr",
     "output_type": "stream",
     "text": [
      " 70%|███████   | 21/30 [00:55<00:24,  2.76s/it]"
     ]
    },
    {
     "name": "stdout",
     "output_type": "stream",
     "text": [
      "[LightGBM] [Info] Auto-choosing col-wise multi-threading, the overhead of testing was 0.009654 seconds.\n",
      "You can set `force_col_wise=true` to remove the overhead.\n",
      "[LightGBM] [Info] Total Bins 8160\n",
      "[LightGBM] [Info] Number of data points in the train set: 81000, number of used features: 32\n",
      "[LightGBM] [Info] Start training from score -1.098621\n",
      "[LightGBM] [Info] Start training from score -1.098622\n",
      "[LightGBM] [Info] Start training from score -1.098595\n"
     ]
    },
    {
     "name": "stderr",
     "output_type": "stream",
     "text": [
      " 73%|███████▎  | 22/30 [00:58<00:21,  2.74s/it]"
     ]
    },
    {
     "name": "stdout",
     "output_type": "stream",
     "text": [
      "[LightGBM] [Info] Auto-choosing col-wise multi-threading, the overhead of testing was 0.011836 seconds.\n",
      "You can set `force_col_wise=true` to remove the overhead.\n",
      "[LightGBM] [Info] Total Bins 8160\n",
      "[LightGBM] [Info] Number of data points in the train set: 81000, number of used features: 32\n",
      "[LightGBM] [Info] Start training from score -1.098621\n",
      "[LightGBM] [Info] Start training from score -1.098622\n",
      "[LightGBM] [Info] Start training from score -1.098595\n"
     ]
    },
    {
     "name": "stderr",
     "output_type": "stream",
     "text": [
      " 77%|███████▋  | 23/30 [01:01<00:19,  2.82s/it]"
     ]
    },
    {
     "name": "stdout",
     "output_type": "stream",
     "text": [
      "[LightGBM] [Info] Auto-choosing col-wise multi-threading, the overhead of testing was 0.010529 seconds.\n",
      "You can set `force_col_wise=true` to remove the overhead.\n",
      "[LightGBM] [Info] Total Bins 8160\n",
      "[LightGBM] [Info] Number of data points in the train set: 81000, number of used features: 32\n",
      "[LightGBM] [Info] Start training from score -1.098621\n",
      "[LightGBM] [Info] Start training from score -1.098622\n",
      "[LightGBM] [Info] Start training from score -1.098595\n"
     ]
    },
    {
     "name": "stderr",
     "output_type": "stream",
     "text": [
      " 80%|████████  | 24/30 [01:04<00:17,  2.87s/it]"
     ]
    },
    {
     "name": "stdout",
     "output_type": "stream",
     "text": [
      "[LightGBM] [Info] Auto-choosing col-wise multi-threading, the overhead of testing was 0.009161 seconds.\n",
      "You can set `force_col_wise=true` to remove the overhead.\n",
      "[LightGBM] [Info] Total Bins 8160\n",
      "[LightGBM] [Info] Number of data points in the train set: 81000, number of used features: 32\n",
      "[LightGBM] [Info] Start training from score -1.098621\n",
      "[LightGBM] [Info] Start training from score -1.098622\n",
      "[LightGBM] [Info] Start training from score -1.098595\n"
     ]
    },
    {
     "name": "stderr",
     "output_type": "stream",
     "text": [
      " 83%|████████▎ | 25/30 [01:06<00:14,  2.85s/it]"
     ]
    },
    {
     "name": "stdout",
     "output_type": "stream",
     "text": [
      "[LightGBM] [Info] Auto-choosing col-wise multi-threading, the overhead of testing was 0.009983 seconds.\n",
      "You can set `force_col_wise=true` to remove the overhead.\n",
      "[LightGBM] [Info] Total Bins 8160\n",
      "[LightGBM] [Info] Number of data points in the train set: 81000, number of used features: 32\n",
      "[LightGBM] [Info] Start training from score -1.098621\n",
      "[LightGBM] [Info] Start training from score -1.098622\n",
      "[LightGBM] [Info] Start training from score -1.098595\n"
     ]
    },
    {
     "name": "stderr",
     "output_type": "stream",
     "text": [
      " 87%|████████▋ | 26/30 [01:10<00:12,  3.01s/it]"
     ]
    },
    {
     "name": "stdout",
     "output_type": "stream",
     "text": [
      "[LightGBM] [Info] Auto-choosing row-wise multi-threading, the overhead of testing was 0.001966 seconds.\n",
      "You can set `force_row_wise=true` to remove the overhead.\n",
      "And if memory is not enough, you can set `force_col_wise=true`.\n",
      "[LightGBM] [Info] Total Bins 8160\n",
      "[LightGBM] [Info] Number of data points in the train set: 81000, number of used features: 32\n",
      "[LightGBM] [Info] Start training from score -1.098621\n",
      "[LightGBM] [Info] Start training from score -1.098622\n",
      "[LightGBM] [Info] Start training from score -1.098595\n"
     ]
    },
    {
     "name": "stderr",
     "output_type": "stream",
     "text": [
      " 90%|█████████ | 27/30 [01:13<00:09,  3.02s/it]"
     ]
    },
    {
     "name": "stdout",
     "output_type": "stream",
     "text": [
      "[LightGBM] [Info] Auto-choosing col-wise multi-threading, the overhead of testing was 0.013441 seconds.\n",
      "You can set `force_col_wise=true` to remove the overhead.\n",
      "[LightGBM] [Info] Total Bins 8160\n",
      "[LightGBM] [Info] Number of data points in the train set: 81000, number of used features: 32\n",
      "[LightGBM] [Info] Start training from score -1.098621\n",
      "[LightGBM] [Info] Start training from score -1.098622\n",
      "[LightGBM] [Info] Start training from score -1.098595\n"
     ]
    },
    {
     "name": "stderr",
     "output_type": "stream",
     "text": [
      " 93%|█████████▎| 28/30 [01:16<00:06,  3.03s/it]"
     ]
    },
    {
     "name": "stdout",
     "output_type": "stream",
     "text": [
      "[LightGBM] [Info] Auto-choosing col-wise multi-threading, the overhead of testing was 0.012250 seconds.\n",
      "You can set `force_col_wise=true` to remove the overhead.\n",
      "[LightGBM] [Info] Total Bins 8160\n",
      "[LightGBM] [Info] Number of data points in the train set: 81000, number of used features: 32\n",
      "[LightGBM] [Info] Start training from score -1.098621\n",
      "[LightGBM] [Info] Start training from score -1.098622\n",
      "[LightGBM] [Info] Start training from score -1.098595\n"
     ]
    },
    {
     "name": "stderr",
     "output_type": "stream",
     "text": [
      " 97%|█████████▋| 29/30 [01:20<00:03,  3.36s/it]"
     ]
    },
    {
     "name": "stdout",
     "output_type": "stream",
     "text": [
      "[LightGBM] [Info] Auto-choosing col-wise multi-threading, the overhead of testing was 0.011851 seconds.\n",
      "You can set `force_col_wise=true` to remove the overhead.\n",
      "[LightGBM] [Info] Total Bins 8160\n",
      "[LightGBM] [Info] Number of data points in the train set: 81000, number of used features: 32\n",
      "[LightGBM] [Info] Start training from score -1.098621\n",
      "[LightGBM] [Info] Start training from score -1.098622\n",
      "[LightGBM] [Info] Start training from score -1.098595\n"
     ]
    },
    {
     "name": "stderr",
     "output_type": "stream",
     "text": [
      "100%|██████████| 30/30 [01:23<00:00,  2.79s/it]\n"
     ]
    }
   ],
   "source": [
    "# Testing class\n",
    "\n",
    "from src.bootstrap import bootstrap\n",
    "\n",
    "metrics_df = bootstrap.eval_bs_metrics(model, X_train, y_train, n_iteractions=30)\n"
   ]
  },
  {
   "cell_type": "code",
   "execution_count": 17,
   "metadata": {},
   "outputs": [
    {
     "data": {
      "text/html": [
       "<div>\n",
       "<style scoped>\n",
       "    .dataframe tbody tr th:only-of-type {\n",
       "        vertical-align: middle;\n",
       "    }\n",
       "\n",
       "    .dataframe tbody tr th {\n",
       "        vertical-align: top;\n",
       "    }\n",
       "\n",
       "    .dataframe thead th {\n",
       "        text-align: right;\n",
       "    }\n",
       "</style>\n",
       "<table border=\"1\" class=\"dataframe\">\n",
       "  <thead>\n",
       "    <tr style=\"text-align: right;\">\n",
       "      <th></th>\n",
       "      <th>iteraction</th>\n",
       "      <th>roc_auc_score</th>\n",
       "      <th>gini_score</th>\n",
       "      <th>f1_score</th>\n",
       "      <th>average_precision_score</th>\n",
       "      <th>precision_score</th>\n",
       "      <th>recall_score</th>\n",
       "      <th>log_loss</th>\n",
       "      <th>accuracy_score</th>\n",
       "    </tr>\n",
       "  </thead>\n",
       "  <tbody>\n",
       "    <tr>\n",
       "      <th>0</th>\n",
       "      <td>0</td>\n",
       "      <td>0.967797</td>\n",
       "      <td>0.935595</td>\n",
       "      <td>0.899333</td>\n",
       "      <td>0.876834</td>\n",
       "      <td>0.899333</td>\n",
       "      <td>0.899333</td>\n",
       "      <td>0.268475</td>\n",
       "      <td>0.899333</td>\n",
       "    </tr>\n",
       "    <tr>\n",
       "      <th>0</th>\n",
       "      <td>1</td>\n",
       "      <td>0.971392</td>\n",
       "      <td>0.942785</td>\n",
       "      <td>0.901778</td>\n",
       "      <td>0.881613</td>\n",
       "      <td>0.901778</td>\n",
       "      <td>0.901778</td>\n",
       "      <td>0.264216</td>\n",
       "      <td>0.901778</td>\n",
       "    </tr>\n",
       "    <tr>\n",
       "      <th>0</th>\n",
       "      <td>2</td>\n",
       "      <td>0.970012</td>\n",
       "      <td>0.940024</td>\n",
       "      <td>0.903333</td>\n",
       "      <td>0.873018</td>\n",
       "      <td>0.903333</td>\n",
       "      <td>0.903333</td>\n",
       "      <td>0.268751</td>\n",
       "      <td>0.903333</td>\n",
       "    </tr>\n",
       "    <tr>\n",
       "      <th>0</th>\n",
       "      <td>3</td>\n",
       "      <td>0.970287</td>\n",
       "      <td>0.940573</td>\n",
       "      <td>0.903000</td>\n",
       "      <td>0.880696</td>\n",
       "      <td>0.903000</td>\n",
       "      <td>0.903000</td>\n",
       "      <td>0.268331</td>\n",
       "      <td>0.903000</td>\n",
       "    </tr>\n",
       "    <tr>\n",
       "      <th>0</th>\n",
       "      <td>4</td>\n",
       "      <td>0.966787</td>\n",
       "      <td>0.933574</td>\n",
       "      <td>0.900778</td>\n",
       "      <td>0.875171</td>\n",
       "      <td>0.900778</td>\n",
       "      <td>0.900778</td>\n",
       "      <td>0.276777</td>\n",
       "      <td>0.900778</td>\n",
       "    </tr>\n",
       "  </tbody>\n",
       "</table>\n",
       "</div>"
      ],
      "text/plain": [
       "  iteraction  roc_auc_score  gini_score  f1_score  average_precision_score   \n",
       "0          0       0.967797    0.935595  0.899333                 0.876834  \\\n",
       "0          1       0.971392    0.942785  0.901778                 0.881613   \n",
       "0          2       0.970012    0.940024  0.903333                 0.873018   \n",
       "0          3       0.970287    0.940573  0.903000                 0.880696   \n",
       "0          4       0.966787    0.933574  0.900778                 0.875171   \n",
       "\n",
       "   precision_score  recall_score  log_loss  accuracy_score  \n",
       "0         0.899333      0.899333  0.268475        0.899333  \n",
       "0         0.901778      0.901778  0.264216        0.901778  \n",
       "0         0.903333      0.903333  0.268751        0.903333  \n",
       "0         0.903000      0.903000  0.268331        0.903000  \n",
       "0         0.900778      0.900778  0.276777        0.900778  "
      ]
     },
     "execution_count": 17,
     "metadata": {},
     "output_type": "execute_result"
    }
   ],
   "source": [
    "metrics_df.head()"
   ]
  },
  {
   "cell_type": "code",
   "execution_count": 19,
   "metadata": {},
   "outputs": [
    {
     "name": "stderr",
     "output_type": "stream",
     "text": [
      "  0%|          | 0/30 [00:00<?, ?it/s]"
     ]
    },
    {
     "name": "stdout",
     "output_type": "stream",
     "text": [
      "[LightGBM] [Info] Auto-choosing row-wise multi-threading, the overhead of testing was 0.007830 seconds.\n",
      "You can set `force_row_wise=true` to remove the overhead.\n",
      "And if memory is not enough, you can set `force_col_wise=true`.\n",
      "[LightGBM] [Info] Total Bins 8160\n",
      "[LightGBM] [Info] Number of data points in the train set: 81000, number of used features: 32\n",
      "[LightGBM] [Info] Start training from score -1.098621\n",
      "[LightGBM] [Info] Start training from score -1.098622\n",
      "[LightGBM] [Info] Start training from score -1.098595\n"
     ]
    },
    {
     "name": "stderr",
     "output_type": "stream",
     "text": [
      "  3%|▎         | 1/30 [00:04<02:02,  4.24s/it]"
     ]
    },
    {
     "name": "stdout",
     "output_type": "stream",
     "text": [
      "[LightGBM] [Info] Auto-choosing col-wise multi-threading, the overhead of testing was 0.008162 seconds.\n",
      "You can set `force_col_wise=true` to remove the overhead.\n",
      "[LightGBM] [Info] Total Bins 8160\n",
      "[LightGBM] [Info] Number of data points in the train set: 81000, number of used features: 32\n",
      "[LightGBM] [Info] Start training from score -1.098621\n",
      "[LightGBM] [Info] Start training from score -1.098622\n",
      "[LightGBM] [Info] Start training from score -1.098595\n"
     ]
    },
    {
     "name": "stderr",
     "output_type": "stream",
     "text": [
      "  7%|▋         | 2/30 [00:06<01:27,  3.12s/it]"
     ]
    },
    {
     "name": "stdout",
     "output_type": "stream",
     "text": [
      "[LightGBM] [Info] Auto-choosing col-wise multi-threading, the overhead of testing was 0.008155 seconds.\n",
      "You can set `force_col_wise=true` to remove the overhead.\n",
      "[LightGBM] [Info] Total Bins 8160\n",
      "[LightGBM] [Info] Number of data points in the train set: 81000, number of used features: 32\n",
      "[LightGBM] [Info] Start training from score -1.098621\n",
      "[LightGBM] [Info] Start training from score -1.098622\n",
      "[LightGBM] [Info] Start training from score -1.098595\n"
     ]
    },
    {
     "name": "stderr",
     "output_type": "stream",
     "text": [
      " 10%|█         | 3/30 [00:09<01:21,  3.03s/it]"
     ]
    },
    {
     "name": "stdout",
     "output_type": "stream",
     "text": [
      "[LightGBM] [Info] Auto-choosing col-wise multi-threading, the overhead of testing was 0.011195 seconds.\n",
      "You can set `force_col_wise=true` to remove the overhead.\n",
      "[LightGBM] [Info] Total Bins 8160\n",
      "[LightGBM] [Info] Number of data points in the train set: 81000, number of used features: 32\n",
      "[LightGBM] [Info] Start training from score -1.098621\n",
      "[LightGBM] [Info] Start training from score -1.098622\n",
      "[LightGBM] [Info] Start training from score -1.098595\n"
     ]
    },
    {
     "name": "stderr",
     "output_type": "stream",
     "text": [
      " 13%|█▎        | 4/30 [00:12<01:14,  2.87s/it]"
     ]
    },
    {
     "name": "stdout",
     "output_type": "stream",
     "text": [
      "[LightGBM] [Info] Auto-choosing col-wise multi-threading, the overhead of testing was 0.008308 seconds.\n",
      "You can set `force_col_wise=true` to remove the overhead.\n",
      "[LightGBM] [Info] Total Bins 8160\n",
      "[LightGBM] [Info] Number of data points in the train set: 81000, number of used features: 32\n",
      "[LightGBM] [Info] Start training from score -1.098621\n",
      "[LightGBM] [Info] Start training from score -1.098622\n",
      "[LightGBM] [Info] Start training from score -1.098595\n"
     ]
    },
    {
     "name": "stderr",
     "output_type": "stream",
     "text": [
      " 17%|█▋        | 5/30 [00:14<01:09,  2.76s/it]"
     ]
    },
    {
     "name": "stdout",
     "output_type": "stream",
     "text": [
      "[LightGBM] [Info] Auto-choosing col-wise multi-threading, the overhead of testing was 0.010779 seconds.\n",
      "You can set `force_col_wise=true` to remove the overhead.\n",
      "[LightGBM] [Info] Total Bins 8160\n",
      "[LightGBM] [Info] Number of data points in the train set: 81000, number of used features: 32\n",
      "[LightGBM] [Info] Start training from score -1.098621\n",
      "[LightGBM] [Info] Start training from score -1.098622\n",
      "[LightGBM] [Info] Start training from score -1.098595\n"
     ]
    },
    {
     "name": "stderr",
     "output_type": "stream",
     "text": [
      " 20%|██        | 6/30 [00:17<01:02,  2.62s/it]"
     ]
    },
    {
     "name": "stdout",
     "output_type": "stream",
     "text": [
      "[LightGBM] [Info] Auto-choosing col-wise multi-threading, the overhead of testing was 0.008206 seconds.\n",
      "You can set `force_col_wise=true` to remove the overhead.\n",
      "[LightGBM] [Info] Total Bins 8160\n",
      "[LightGBM] [Info] Number of data points in the train set: 81000, number of used features: 32\n",
      "[LightGBM] [Info] Start training from score -1.098621\n",
      "[LightGBM] [Info] Start training from score -1.098622\n",
      "[LightGBM] [Info] Start training from score -1.098595\n"
     ]
    },
    {
     "name": "stderr",
     "output_type": "stream",
     "text": [
      " 23%|██▎       | 7/30 [00:19<00:58,  2.53s/it]"
     ]
    },
    {
     "name": "stdout",
     "output_type": "stream",
     "text": [
      "[LightGBM] [Info] Auto-choosing col-wise multi-threading, the overhead of testing was 0.009401 seconds.\n",
      "You can set `force_col_wise=true` to remove the overhead.\n",
      "[LightGBM] [Info] Total Bins 8160\n",
      "[LightGBM] [Info] Number of data points in the train set: 81000, number of used features: 32\n",
      "[LightGBM] [Info] Start training from score -1.098621\n",
      "[LightGBM] [Info] Start training from score -1.098622\n",
      "[LightGBM] [Info] Start training from score -1.098595\n"
     ]
    },
    {
     "name": "stderr",
     "output_type": "stream",
     "text": [
      " 27%|██▋       | 8/30 [00:21<00:56,  2.55s/it]"
     ]
    },
    {
     "name": "stdout",
     "output_type": "stream",
     "text": [
      "[LightGBM] [Info] Auto-choosing col-wise multi-threading, the overhead of testing was 0.008789 seconds.\n",
      "You can set `force_col_wise=true` to remove the overhead.\n",
      "[LightGBM] [Info] Total Bins 8160\n",
      "[LightGBM] [Info] Number of data points in the train set: 81000, number of used features: 32\n",
      "[LightGBM] [Info] Start training from score -1.098621\n",
      "[LightGBM] [Info] Start training from score -1.098622\n",
      "[LightGBM] [Info] Start training from score -1.098595\n"
     ]
    },
    {
     "name": "stderr",
     "output_type": "stream",
     "text": [
      " 30%|███       | 9/30 [00:24<00:53,  2.55s/it]"
     ]
    },
    {
     "name": "stdout",
     "output_type": "stream",
     "text": [
      "[LightGBM] [Info] Auto-choosing col-wise multi-threading, the overhead of testing was 0.009879 seconds.\n",
      "You can set `force_col_wise=true` to remove the overhead.\n",
      "[LightGBM] [Info] Total Bins 8160\n",
      "[LightGBM] [Info] Number of data points in the train set: 81000, number of used features: 32\n",
      "[LightGBM] [Info] Start training from score -1.098621\n",
      "[LightGBM] [Info] Start training from score -1.098622\n",
      "[LightGBM] [Info] Start training from score -1.098595\n"
     ]
    },
    {
     "name": "stderr",
     "output_type": "stream",
     "text": [
      " 33%|███▎      | 10/30 [00:26<00:50,  2.51s/it]"
     ]
    },
    {
     "name": "stdout",
     "output_type": "stream",
     "text": [
      "[LightGBM] [Info] Auto-choosing col-wise multi-threading, the overhead of testing was 0.010166 seconds.\n",
      "You can set `force_col_wise=true` to remove the overhead.\n",
      "[LightGBM] [Info] Total Bins 8160\n",
      "[LightGBM] [Info] Number of data points in the train set: 81000, number of used features: 32\n",
      "[LightGBM] [Info] Start training from score -1.098621\n",
      "[LightGBM] [Info] Start training from score -1.098622\n",
      "[LightGBM] [Info] Start training from score -1.098595\n"
     ]
    },
    {
     "name": "stderr",
     "output_type": "stream",
     "text": [
      " 37%|███▋      | 11/30 [00:29<00:49,  2.58s/it]"
     ]
    },
    {
     "name": "stdout",
     "output_type": "stream",
     "text": [
      "[LightGBM] [Info] Auto-choosing col-wise multi-threading, the overhead of testing was 0.010076 seconds.\n",
      "You can set `force_col_wise=true` to remove the overhead.\n",
      "[LightGBM] [Info] Total Bins 8160\n",
      "[LightGBM] [Info] Number of data points in the train set: 81000, number of used features: 32\n",
      "[LightGBM] [Info] Start training from score -1.098621\n",
      "[LightGBM] [Info] Start training from score -1.098622\n",
      "[LightGBM] [Info] Start training from score -1.098595\n"
     ]
    },
    {
     "name": "stderr",
     "output_type": "stream",
     "text": [
      " 40%|████      | 12/30 [00:32<00:45,  2.53s/it]"
     ]
    },
    {
     "name": "stdout",
     "output_type": "stream",
     "text": [
      "[LightGBM] [Info] Auto-choosing col-wise multi-threading, the overhead of testing was 0.015918 seconds.\n",
      "You can set `force_col_wise=true` to remove the overhead.\n",
      "[LightGBM] [Info] Total Bins 8160\n",
      "[LightGBM] [Info] Number of data points in the train set: 81000, number of used features: 32\n",
      "[LightGBM] [Info] Start training from score -1.098621\n",
      "[LightGBM] [Info] Start training from score -1.098622\n",
      "[LightGBM] [Info] Start training from score -1.098595\n"
     ]
    },
    {
     "name": "stderr",
     "output_type": "stream",
     "text": [
      " 43%|████▎     | 13/30 [00:34<00:43,  2.58s/it]"
     ]
    },
    {
     "name": "stdout",
     "output_type": "stream",
     "text": [
      "[LightGBM] [Info] Auto-choosing col-wise multi-threading, the overhead of testing was 0.008948 seconds.\n",
      "You can set `force_col_wise=true` to remove the overhead.\n",
      "[LightGBM] [Info] Total Bins 8160\n",
      "[LightGBM] [Info] Number of data points in the train set: 81000, number of used features: 32\n",
      "[LightGBM] [Info] Start training from score -1.098621\n",
      "[LightGBM] [Info] Start training from score -1.098622\n",
      "[LightGBM] [Info] Start training from score -1.098595\n"
     ]
    },
    {
     "name": "stderr",
     "output_type": "stream",
     "text": [
      " 47%|████▋     | 14/30 [00:37<00:40,  2.50s/it]"
     ]
    },
    {
     "name": "stdout",
     "output_type": "stream",
     "text": [
      "[LightGBM] [Info] Auto-choosing col-wise multi-threading, the overhead of testing was 0.011745 seconds.\n",
      "You can set `force_col_wise=true` to remove the overhead.\n",
      "[LightGBM] [Info] Total Bins 8160\n",
      "[LightGBM] [Info] Number of data points in the train set: 81000, number of used features: 32\n",
      "[LightGBM] [Info] Start training from score -1.098621\n",
      "[LightGBM] [Info] Start training from score -1.098622\n",
      "[LightGBM] [Info] Start training from score -1.098595\n"
     ]
    },
    {
     "name": "stderr",
     "output_type": "stream",
     "text": [
      " 50%|█████     | 15/30 [00:40<00:39,  2.66s/it]"
     ]
    },
    {
     "name": "stdout",
     "output_type": "stream",
     "text": [
      "[LightGBM] [Info] Auto-choosing col-wise multi-threading, the overhead of testing was 0.012301 seconds.\n",
      "You can set `force_col_wise=true` to remove the overhead.\n",
      "[LightGBM] [Info] Total Bins 8160\n",
      "[LightGBM] [Info] Number of data points in the train set: 81000, number of used features: 32\n",
      "[LightGBM] [Info] Start training from score -1.098621\n",
      "[LightGBM] [Info] Start training from score -1.098622\n",
      "[LightGBM] [Info] Start training from score -1.098595\n"
     ]
    },
    {
     "name": "stderr",
     "output_type": "stream",
     "text": [
      " 53%|█████▎    | 16/30 [00:42<00:36,  2.59s/it]"
     ]
    },
    {
     "name": "stdout",
     "output_type": "stream",
     "text": [
      "[LightGBM] [Info] Auto-choosing col-wise multi-threading, the overhead of testing was 0.010271 seconds.\n",
      "You can set `force_col_wise=true` to remove the overhead.\n",
      "[LightGBM] [Info] Total Bins 8160\n",
      "[LightGBM] [Info] Number of data points in the train set: 81000, number of used features: 32\n",
      "[LightGBM] [Info] Start training from score -1.098621\n",
      "[LightGBM] [Info] Start training from score -1.098622\n",
      "[LightGBM] [Info] Start training from score -1.098595\n"
     ]
    },
    {
     "name": "stderr",
     "output_type": "stream",
     "text": [
      " 57%|█████▋    | 17/30 [00:44<00:32,  2.51s/it]"
     ]
    },
    {
     "name": "stdout",
     "output_type": "stream",
     "text": [
      "[LightGBM] [Info] Auto-choosing col-wise multi-threading, the overhead of testing was 0.007680 seconds.\n",
      "You can set `force_col_wise=true` to remove the overhead.\n",
      "[LightGBM] [Info] Total Bins 8160\n",
      "[LightGBM] [Info] Number of data points in the train set: 81000, number of used features: 32\n",
      "[LightGBM] [Info] Start training from score -1.098621\n",
      "[LightGBM] [Info] Start training from score -1.098622\n",
      "[LightGBM] [Info] Start training from score -1.098595\n"
     ]
    },
    {
     "name": "stderr",
     "output_type": "stream",
     "text": [
      " 60%|██████    | 18/30 [00:46<00:28,  2.39s/it]"
     ]
    },
    {
     "name": "stdout",
     "output_type": "stream",
     "text": [
      "[LightGBM] [Info] Auto-choosing col-wise multi-threading, the overhead of testing was 0.011428 seconds.\n",
      "You can set `force_col_wise=true` to remove the overhead.\n",
      "[LightGBM] [Info] Total Bins 8160\n",
      "[LightGBM] [Info] Number of data points in the train set: 81000, number of used features: 32\n",
      "[LightGBM] [Info] Start training from score -1.098621\n",
      "[LightGBM] [Info] Start training from score -1.098622\n",
      "[LightGBM] [Info] Start training from score -1.098595\n"
     ]
    },
    {
     "name": "stderr",
     "output_type": "stream",
     "text": [
      " 63%|██████▎   | 19/30 [00:49<00:28,  2.56s/it]"
     ]
    },
    {
     "name": "stdout",
     "output_type": "stream",
     "text": [
      "[LightGBM] [Info] Auto-choosing col-wise multi-threading, the overhead of testing was 0.011637 seconds.\n",
      "You can set `force_col_wise=true` to remove the overhead.\n",
      "[LightGBM] [Info] Total Bins 8160\n",
      "[LightGBM] [Info] Number of data points in the train set: 81000, number of used features: 32\n",
      "[LightGBM] [Info] Start training from score -1.098621\n",
      "[LightGBM] [Info] Start training from score -1.098622\n",
      "[LightGBM] [Info] Start training from score -1.098595\n"
     ]
    },
    {
     "name": "stderr",
     "output_type": "stream",
     "text": [
      " 67%|██████▋   | 20/30 [00:52<00:26,  2.69s/it]"
     ]
    },
    {
     "name": "stdout",
     "output_type": "stream",
     "text": [
      "[LightGBM] [Info] Auto-choosing col-wise multi-threading, the overhead of testing was 0.009964 seconds.\n",
      "You can set `force_col_wise=true` to remove the overhead.\n",
      "[LightGBM] [Info] Total Bins 8160\n",
      "[LightGBM] [Info] Number of data points in the train set: 81000, number of used features: 32\n",
      "[LightGBM] [Info] Start training from score -1.098621\n",
      "[LightGBM] [Info] Start training from score -1.098622\n",
      "[LightGBM] [Info] Start training from score -1.098595\n"
     ]
    },
    {
     "name": "stderr",
     "output_type": "stream",
     "text": [
      " 70%|███████   | 21/30 [00:55<00:24,  2.72s/it]"
     ]
    },
    {
     "name": "stdout",
     "output_type": "stream",
     "text": [
      "[LightGBM] [Info] Auto-choosing col-wise multi-threading, the overhead of testing was 0.010597 seconds.\n",
      "You can set `force_col_wise=true` to remove the overhead.\n",
      "[LightGBM] [Info] Total Bins 8160\n",
      "[LightGBM] [Info] Number of data points in the train set: 81000, number of used features: 32\n",
      "[LightGBM] [Info] Start training from score -1.098621\n",
      "[LightGBM] [Info] Start training from score -1.098622\n",
      "[LightGBM] [Info] Start training from score -1.098595\n"
     ]
    },
    {
     "name": "stderr",
     "output_type": "stream",
     "text": [
      " 73%|███████▎  | 22/30 [00:58<00:22,  2.79s/it]"
     ]
    },
    {
     "name": "stdout",
     "output_type": "stream",
     "text": [
      "[LightGBM] [Info] Auto-choosing col-wise multi-threading, the overhead of testing was 0.011779 seconds.\n",
      "You can set `force_col_wise=true` to remove the overhead.\n",
      "[LightGBM] [Info] Total Bins 8160\n",
      "[LightGBM] [Info] Number of data points in the train set: 81000, number of used features: 32\n",
      "[LightGBM] [Info] Start training from score -1.098621\n",
      "[LightGBM] [Info] Start training from score -1.098622\n",
      "[LightGBM] [Info] Start training from score -1.098595\n"
     ]
    },
    {
     "name": "stderr",
     "output_type": "stream",
     "text": [
      " 77%|███████▋  | 23/30 [01:01<00:19,  2.79s/it]"
     ]
    },
    {
     "name": "stdout",
     "output_type": "stream",
     "text": [
      "[LightGBM] [Info] Auto-choosing col-wise multi-threading, the overhead of testing was 0.015634 seconds.\n",
      "You can set `force_col_wise=true` to remove the overhead.\n",
      "[LightGBM] [Info] Total Bins 8160\n",
      "[LightGBM] [Info] Number of data points in the train set: 81000, number of used features: 32\n",
      "[LightGBM] [Info] Start training from score -1.098621\n",
      "[LightGBM] [Info] Start training from score -1.098622\n",
      "[LightGBM] [Info] Start training from score -1.098595\n"
     ]
    },
    {
     "name": "stderr",
     "output_type": "stream",
     "text": [
      " 80%|████████  | 24/30 [01:04<00:17,  2.88s/it]"
     ]
    },
    {
     "name": "stdout",
     "output_type": "stream",
     "text": [
      "[LightGBM] [Info] Auto-choosing col-wise multi-threading, the overhead of testing was 0.009787 seconds.\n",
      "You can set `force_col_wise=true` to remove the overhead.\n",
      "[LightGBM] [Info] Total Bins 8160\n",
      "[LightGBM] [Info] Number of data points in the train set: 81000, number of used features: 32\n",
      "[LightGBM] [Info] Start training from score -1.098621\n",
      "[LightGBM] [Info] Start training from score -1.098622\n",
      "[LightGBM] [Info] Start training from score -1.098595\n"
     ]
    },
    {
     "name": "stderr",
     "output_type": "stream",
     "text": [
      " 83%|████████▎ | 25/30 [01:07<00:15,  3.02s/it]"
     ]
    },
    {
     "name": "stdout",
     "output_type": "stream",
     "text": [
      "[LightGBM] [Info] Auto-choosing col-wise multi-threading, the overhead of testing was 0.009476 seconds.\n",
      "You can set `force_col_wise=true` to remove the overhead.\n",
      "[LightGBM] [Info] Total Bins 8160\n",
      "[LightGBM] [Info] Number of data points in the train set: 81000, number of used features: 32\n",
      "[LightGBM] [Info] Start training from score -1.098621\n",
      "[LightGBM] [Info] Start training from score -1.098622\n",
      "[LightGBM] [Info] Start training from score -1.098595\n"
     ]
    },
    {
     "name": "stderr",
     "output_type": "stream",
     "text": [
      " 87%|████████▋ | 26/30 [01:10<00:11,  2.88s/it]"
     ]
    },
    {
     "name": "stdout",
     "output_type": "stream",
     "text": [
      "[LightGBM] [Info] Auto-choosing col-wise multi-threading, the overhead of testing was 0.010483 seconds.\n",
      "You can set `force_col_wise=true` to remove the overhead.\n",
      "[LightGBM] [Info] Total Bins 8160\n",
      "[LightGBM] [Info] Number of data points in the train set: 81000, number of used features: 32\n",
      "[LightGBM] [Info] Start training from score -1.098621\n",
      "[LightGBM] [Info] Start training from score -1.098622\n",
      "[LightGBM] [Info] Start training from score -1.098595\n"
     ]
    },
    {
     "name": "stderr",
     "output_type": "stream",
     "text": [
      " 90%|█████████ | 27/30 [01:13<00:08,  2.80s/it]"
     ]
    },
    {
     "name": "stdout",
     "output_type": "stream",
     "text": [
      "[LightGBM] [Info] Auto-choosing row-wise multi-threading, the overhead of testing was 0.003975 seconds.\n",
      "You can set `force_row_wise=true` to remove the overhead.\n",
      "And if memory is not enough, you can set `force_col_wise=true`.\n",
      "[LightGBM] [Info] Total Bins 8160\n",
      "[LightGBM] [Info] Number of data points in the train set: 81000, number of used features: 32\n",
      "[LightGBM] [Info] Start training from score -1.098621\n",
      "[LightGBM] [Info] Start training from score -1.098622\n",
      "[LightGBM] [Info] Start training from score -1.098595\n"
     ]
    },
    {
     "name": "stderr",
     "output_type": "stream",
     "text": [
      " 93%|█████████▎| 28/30 [01:15<00:05,  2.80s/it]"
     ]
    },
    {
     "name": "stdout",
     "output_type": "stream",
     "text": [
      "[LightGBM] [Info] Auto-choosing col-wise multi-threading, the overhead of testing was 0.010736 seconds.\n",
      "You can set `force_col_wise=true` to remove the overhead.\n",
      "[LightGBM] [Info] Total Bins 8160\n",
      "[LightGBM] [Info] Number of data points in the train set: 81000, number of used features: 32\n",
      "[LightGBM] [Info] Start training from score -1.098621\n",
      "[LightGBM] [Info] Start training from score -1.098622\n",
      "[LightGBM] [Info] Start training from score -1.098595\n"
     ]
    },
    {
     "name": "stderr",
     "output_type": "stream",
     "text": [
      " 97%|█████████▋| 29/30 [01:18<00:02,  2.75s/it]"
     ]
    },
    {
     "name": "stdout",
     "output_type": "stream",
     "text": [
      "[LightGBM] [Info] Auto-choosing row-wise multi-threading, the overhead of testing was 0.001978 seconds.\n",
      "You can set `force_row_wise=true` to remove the overhead.\n",
      "And if memory is not enough, you can set `force_col_wise=true`.\n",
      "[LightGBM] [Info] Total Bins 8160\n",
      "[LightGBM] [Info] Number of data points in the train set: 81000, number of used features: 32\n",
      "[LightGBM] [Info] Start training from score -1.098621\n",
      "[LightGBM] [Info] Start training from score -1.098622\n",
      "[LightGBM] [Info] Start training from score -1.098595\n"
     ]
    },
    {
     "name": "stderr",
     "output_type": "stream",
     "text": [
      "100%|██████████| 30/30 [01:21<00:00,  2.70s/it]\n",
      "100%|██████████| 8/8 [00:00<00:00, 235.66it/s]"
     ]
    },
    {
     "name": "stdout",
     "output_type": "stream",
     "text": [
      "CPU times: user 4min 12s, sys: 5.57 s, total: 4min 17s\n",
      "Wall time: 1min 21s\n"
     ]
    },
    {
     "name": "stderr",
     "output_type": "stream",
     "text": [
      "\n"
     ]
    }
   ],
   "source": [
    "%%time\n",
    "metric_ci, metrics_df = bootstrap.get_metrics_ci(model, X_train, y_train,\n",
    "                                          return_evaluations_df=True, \n",
    "                                          n_iteractions=30)\n"
   ]
  },
  {
   "cell_type": "code",
   "execution_count": 20,
   "metadata": {},
   "outputs": [
    {
     "data": {
      "text/plain": [
       "{'roc_auc_score': [(0.9681566691557197, 0.9693770573177618),\n",
       "  0.9687668632367408,\n",
       "  0.00029878191773009176],\n",
       " 'gini_score': [(0.936313338311439, 0.9387541146355232),\n",
       "  0.9375337264734811,\n",
       "  0.0005975638354601835],\n",
       " 'f1_score': [(0.8993173837150505, 0.901275208877542),\n",
       "  0.9002962962962963,\n",
       "  0.00047932516458583136],\n",
       " 'average_precision_score': [(0.873580035209305, 0.877470513571651),\n",
       "  0.875525274390478,\n",
       "  0.0009524875954582295],\n",
       " 'precision_score': [(0.8993173837150505, 0.901275208877542),\n",
       "  0.9002962962962963,\n",
       "  0.00047932516458583016],\n",
       " 'recall_score': [(0.8993173837150505, 0.901275208877542),\n",
       "  0.9002962962962963,\n",
       "  0.00047932516458583016],\n",
       " 'log_loss': [(0.2700112661706582, 0.27407141353339615),\n",
       "  0.27204133985202716,\n",
       "  0.0009940268621384815],\n",
       " 'accuracy_score': [(0.8993173837150505, 0.901275208877542),\n",
       "  0.9002962962962963,\n",
       "  0.00047932516458583016],\n",
       " 'format_description': [('lower_limit', 'upper_limit'), 'avg', 'std']}"
      ]
     },
     "execution_count": 20,
     "metadata": {},
     "output_type": "execute_result"
    }
   ],
   "source": [
    "metric_ci"
   ]
  },
  {
   "cell_type": "code",
   "execution_count": null,
   "metadata": {},
   "outputs": [],
   "source": []
  }
 ],
 "metadata": {
  "kernelspec": {
   "display_name": ".venv",
   "language": "python",
   "name": "python3"
  },
  "language_info": {
   "codemirror_mode": {
    "name": "ipython",
    "version": 3
   },
   "file_extension": ".py",
   "mimetype": "text/x-python",
   "name": "python",
   "nbconvert_exporter": "python",
   "pygments_lexer": "ipython3",
   "version": "3.11.5"
  },
  "orig_nbformat": 4
 },
 "nbformat": 4,
 "nbformat_minor": 2
}
